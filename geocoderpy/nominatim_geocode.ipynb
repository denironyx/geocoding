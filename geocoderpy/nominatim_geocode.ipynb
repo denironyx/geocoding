{
 "metadata": {
  "language_info": {
   "codemirror_mode": {
    "name": "ipython",
    "version": 3
   },
   "file_extension": ".py",
   "mimetype": "text/x-python",
   "name": "python",
   "nbconvert_exporter": "python",
   "pygments_lexer": "ipython3",
   "version": "3.9.5"
  },
  "orig_nbformat": 2,
  "kernelspec": {
   "name": "python395jvsc74a57bd063fd5069d213b44bf678585dea6b12cceca9941eaf7f819626cde1f2670de90d",
   "display_name": "Python 3.9.5 64-bit"
  }
 },
 "nbformat": 4,
 "nbformat_minor": 2,
 "cells": [
  {
   "source": [
    "## Geocoding addresses in python with Geopy\n",
    "This notebook demonstrates a simple python geocoding and mapping workflow."
   ],
   "cell_type": "markdown",
   "metadata": {}
  },
  {
   "source": [
    "###  Install geocoding and mapping libraries that we will use.\n",
    "\n",
    "- [geopy](https://geopy.readthedocs.io/), for consistant interface to different geocoding APIs\n",
    "- [folium](https://github.com/python-visualization/folium), a python library for making interactive maps"
   ],
   "cell_type": "markdown",
   "metadata": {}
  },
  {
   "cell_type": "code",
   "execution_count": 1,
   "metadata": {},
   "outputs": [],
   "source": [
    "# Geocoding library\n"
   ]
  },
  {
   "cell_type": "code",
   "execution_count": 2,
   "metadata": {},
   "outputs": [
    {
     "output_type": "stream",
     "name": "stdout",
     "text": [
      "Collecting geopy\n",
      "  Downloading geopy-2.1.0-py3-none-any.whl (112 kB)\n",
      "Collecting geographiclib<2,>=1.49\n",
      "  Downloading geographiclib-1.50-py3-none-any.whl (38 kB)\n",
      "Installing collected packages: geographiclib, geopy\n",
      "Successfully installed geographiclib-1.50 geopy-2.1.0\n",
      "Requirement already satisfied: folium in c:\\python39\\lib\\site-packages (0.12.1)\n",
      "Requirement already satisfied: requests in c:\\python39\\lib\\site-packages (from folium) (2.25.1)\n",
      "Requirement already satisfied: jinja2>=2.9 in c:\\python39\\lib\\site-packages (from folium) (2.11.3)\n",
      "Requirement already satisfied: numpy in c:\\python39\\lib\\site-packages (from folium) (1.20.3)\n",
      "Requirement already satisfied: branca>=0.3.0 in c:\\python39\\lib\\site-packages (from folium) (0.4.2)\n",
      "Requirement already satisfied: MarkupSafe>=0.23 in c:\\python39\\lib\\site-packages (from jinja2>=2.9->folium) (1.1.1)\n",
      "Requirement already satisfied: chardet<5,>=3.0.2 in c:\\python39\\lib\\site-packages (from requests->folium) (4.0.0)\n",
      "Requirement already satisfied: urllib3<1.27,>=1.21.1 in c:\\python39\\lib\\site-packages (from requests->folium) (1.26.4)\n",
      "Requirement already satisfied: idna<3,>=2.5 in c:\\python39\\lib\\site-packages (from requests->folium) (2.10)\n",
      "Requirement already satisfied: certifi>=2017.4.17 in c:\\python39\\lib\\site-packages (from requests->folium) (2020.12.5)\n"
     ]
    }
   ],
   "source": [
    "!pip install geopy\n",
    "!pip install folium"
   ]
  },
  {
   "source": [
    "## Import the libraries"
   ],
   "cell_type": "markdown",
   "metadata": {}
  },
  {
   "cell_type": "code",
   "execution_count": 11,
   "metadata": {},
   "outputs": [],
   "source": [
    "import pandas as pd\n",
    "from geopy.geocoders import Nominatim\n",
    "import folium\n",
    "import requests"
   ]
  },
  {
   "source": [
    "## Create a geocoder that uses the OpenStreetMap Nominatim API"
   ],
   "cell_type": "markdown",
   "metadata": {}
  },
  {
   "cell_type": "code",
   "execution_count": 9,
   "metadata": {},
   "outputs": [
    {
     "output_type": "execute_result",
     "data": {
      "text/plain": [
       "Location(Social Sciences Building, Eshleman Road, Southside, Berkeley, Alameda County, California, 94720-1076, United States, (37.87010975, -122.25792906636786, 0.0))"
      ]
     },
     "metadata": {},
     "execution_count": 9
    }
   ],
   "source": [
    "geolocator = Nominatim(timeout=10, user_agent = \"denironyx@gmail.com\")\n",
    "\n",
    "## Test the geocoder with one address\n",
    "location = geolocator.geocode('Barrows Hall, Berkeley CA')\n",
    "location"
   ]
  },
  {
   "source": [
    "## Upload a CSV file of addresses to geocode\n",
    "Fetch the data to geocode with wget"
   ],
   "cell_type": "markdown",
   "metadata": {}
  },
  {
   "cell_type": "code",
   "execution_count": 6,
   "metadata": {},
   "outputs": [
    {
     "output_type": "execute_result",
     "data": {
      "text/plain": [
       "156"
      ]
     },
     "metadata": {},
     "execution_count": 6
    }
   ],
   "source": [
    "url = \"https://raw.githubusercontent.com/dlab-geo/geocoding/master/address_data/SFLandmarks.csv\"\n",
    "r = requests.get(url, allow_redirects=True)\n",
    "open('SFLandmarks.csv', 'wb').write(r.content)"
   ]
  },
  {
   "cell_type": "code",
   "execution_count": 7,
   "metadata": {},
   "outputs": [
    {
     "output_type": "stream",
     "name": "stdout",
     "text": [
      " Volume in drive C is Windows\n",
      " Volume Serial Number is 5CCB-DD86\n",
      "\n",
      " Directory of c:\\Users\\Dee\\root\\Projects\\personal_real_projects\\geocoding\\geocoderpy\n",
      "\n",
      "06/11/2021  01:43 PM    <DIR>          .\n",
      "06/11/2021  01:43 PM    <DIR>          ..\n",
      "06/11/2021  01:08 PM    <DIR>          Include\n",
      "06/11/2021  01:08 PM    <DIR>          Lib\n",
      "06/11/2021  01:45 PM             4,978 nominatim_geocode.ipynb\n",
      "06/11/2021  01:08 PM                75 pyvenv.cfg\n",
      "06/11/2021  01:09 PM    <DIR>          Scripts\n",
      "06/11/2021  01:43 PM               156 SFLandmarks.csv\n",
      "               3 File(s)          5,209 bytes\n",
      "               5 Dir(s)  33,762,004,992 bytes free\n"
     ]
    }
   ],
   "source": [
    "ls"
   ]
  },
  {
   "source": [
    "### Read in the file with `pandas`"
   ],
   "cell_type": "markdown",
   "metadata": {}
  },
  {
   "cell_type": "code",
   "execution_count": 8,
   "metadata": {},
   "outputs": [
    {
     "output_type": "stream",
     "name": "stdout",
     "text": [
      "   ID          Landmark           City State\n0   1      Union Square  San Francisco    CA\n1   2        Coit Tower  San Francisco    CA\n2   3  Golden Gate Park  San Francisco    CA\n3   4        Twin Peaks  San Francisco    CA\n"
     ]
    }
   ],
   "source": [
    "df = pd.read_csv('SFLandmarks.csv')\n",
    "print(df)"
   ]
  },
  {
   "source": [
    "### Geocode the addresses in the Pandas Dataframe\n",
    "\n",
    "The next cell does the following\n",
    "\n",
    "- Iterates over all rows in the dataframe `df`.\n",
    "- Joins the values in the columns `Landmark`, `City`, and `State` into one string (the full address)\n",
    "- Submits the string we just created as the address to be geocoded\n",
    "- Saves results to the `geocodes` list object."
   ],
   "cell_type": "markdown",
   "metadata": {}
  },
  {
   "cell_type": "code",
   "execution_count": 11,
   "metadata": {},
   "outputs": [],
   "source": [
    "geocodes = [geolocator.geocode(', '.join([df['Landmark'][i], df['City'][i], df['State'][i]])) for i in range(len(df))]"
   ]
  },
  {
   "source": [
    "Goecoding output"
   ],
   "cell_type": "markdown",
   "metadata": {}
  },
  {
   "cell_type": "code",
   "execution_count": 12,
   "metadata": {},
   "outputs": [
    {
     "output_type": "execute_result",
     "data": {
      "text/plain": [
       "[Location(Union Square, San Francisco, San Francisco City and County, San Francisco, California, United States, (37.7879363, -122.40751740318035, 0.0)),\n",
       " Location(Coit Tower, Telegraph Hill Boulevard, Telegraph Hill, San Francisco, San Francisco City and County, San Francisco, California, 94113, United States, (37.80237905, -122.40583435461313, 0.0)),\n",
       " Location(Golden Gate Park, San Francisco City and County, San Francisco, California, 94118-4504, United States, (37.769368099999994, -122.48218371117709, 0.0)),\n",
       " Location(Twin Peaks, c, Christmas Tree Point Road, San Francisco, San Francisco City and County, San Francisco, California, 94114-1818, United States, (37.75464, -122.44648, 0.0))]"
      ]
     },
     "metadata": {},
     "execution_count": 12
    }
   ],
   "source": [
    "geocodes"
   ]
  },
  {
   "source": [
    "Add the output `latitude` and `longitude` values in the geocodes list to the df dataframe"
   ],
   "cell_type": "markdown",
   "metadata": {}
  },
  {
   "cell_type": "code",
   "execution_count": 13,
   "metadata": {},
   "outputs": [
    {
     "output_type": "execute_result",
     "data": {
      "text/plain": [
       "   ID          Landmark           City State        lat         lon\n",
       "0   1      Union Square  San Francisco    CA  37.787936 -122.407517\n",
       "1   2        Coit Tower  San Francisco    CA  37.802379 -122.405834\n",
       "2   3  Golden Gate Park  San Francisco    CA  37.769368 -122.482184\n",
       "3   4        Twin Peaks  San Francisco    CA  37.754640 -122.446480"
      ],
      "text/html": "<div>\n<style scoped>\n    .dataframe tbody tr th:only-of-type {\n        vertical-align: middle;\n    }\n\n    .dataframe tbody tr th {\n        vertical-align: top;\n    }\n\n    .dataframe thead th {\n        text-align: right;\n    }\n</style>\n<table border=\"1\" class=\"dataframe\">\n  <thead>\n    <tr style=\"text-align: right;\">\n      <th></th>\n      <th>ID</th>\n      <th>Landmark</th>\n      <th>City</th>\n      <th>State</th>\n      <th>lat</th>\n      <th>lon</th>\n    </tr>\n  </thead>\n  <tbody>\n    <tr>\n      <th>0</th>\n      <td>1</td>\n      <td>Union Square</td>\n      <td>San Francisco</td>\n      <td>CA</td>\n      <td>37.787936</td>\n      <td>-122.407517</td>\n    </tr>\n    <tr>\n      <th>1</th>\n      <td>2</td>\n      <td>Coit Tower</td>\n      <td>San Francisco</td>\n      <td>CA</td>\n      <td>37.802379</td>\n      <td>-122.405834</td>\n    </tr>\n    <tr>\n      <th>2</th>\n      <td>3</td>\n      <td>Golden Gate Park</td>\n      <td>San Francisco</td>\n      <td>CA</td>\n      <td>37.769368</td>\n      <td>-122.482184</td>\n    </tr>\n    <tr>\n      <th>3</th>\n      <td>4</td>\n      <td>Twin Peaks</td>\n      <td>San Francisco</td>\n      <td>CA</td>\n      <td>37.754640</td>\n      <td>-122.446480</td>\n    </tr>\n  </tbody>\n</table>\n</div>"
     },
     "metadata": {},
     "execution_count": 13
    }
   ],
   "source": [
    "df['lat'] = [g.latitude for g in geocodes]\n",
    "df['lon'] = [g.longitude for g in geocodes]\n",
    "df"
   ]
  },
  {
   "source": [
    "## Map the output\n",
    "First, make an empty map centered on San Francisco."
   ],
   "cell_type": "markdown",
   "metadata": {}
  },
  {
   "cell_type": "code",
   "execution_count": 18,
   "metadata": {},
   "outputs": [
    {
     "output_type": "display_data",
     "data": {
      "text/plain": "<folium.folium.Map at 0x241ce73c3a0>",
      "text/html": "<div style=\"width:100%;\"><div style=\"position:relative;width:100%;height:0;padding-bottom:60%;\"><span style=\"color:#565656\">Make this Notebook Trusted to load map: File -> Trust Notebook</span><iframe src=\"about:blank\" style=\"position:absolute;width:100%;height:100%;left:0;top:0;border:none !important;\" data-html=%3C%21DOCTYPE%20html%3E%0A%3Chead%3E%20%20%20%20%0A%20%20%20%20%3Cmeta%20http-equiv%3D%22content-type%22%20content%3D%22text/html%3B%20charset%3DUTF-8%22%20/%3E%0A%20%20%20%20%0A%20%20%20%20%20%20%20%20%3Cscript%3E%0A%20%20%20%20%20%20%20%20%20%20%20%20L_NO_TOUCH%20%3D%20false%3B%0A%20%20%20%20%20%20%20%20%20%20%20%20L_DISABLE_3D%20%3D%20false%3B%0A%20%20%20%20%20%20%20%20%3C/script%3E%0A%20%20%20%20%0A%20%20%20%20%3Cstyle%3Ehtml%2C%20body%20%7Bwidth%3A%20100%25%3Bheight%3A%20100%25%3Bmargin%3A%200%3Bpadding%3A%200%3B%7D%3C/style%3E%0A%20%20%20%20%3Cstyle%3E%23map%20%7Bposition%3Aabsolute%3Btop%3A0%3Bbottom%3A0%3Bright%3A0%3Bleft%3A0%3B%7D%3C/style%3E%0A%20%20%20%20%3Cscript%20src%3D%22https%3A//cdn.jsdelivr.net/npm/leaflet%401.6.0/dist/leaflet.js%22%3E%3C/script%3E%0A%20%20%20%20%3Cscript%20src%3D%22https%3A//code.jquery.com/jquery-1.12.4.min.js%22%3E%3C/script%3E%0A%20%20%20%20%3Cscript%20src%3D%22https%3A//maxcdn.bootstrapcdn.com/bootstrap/3.2.0/js/bootstrap.min.js%22%3E%3C/script%3E%0A%20%20%20%20%3Cscript%20src%3D%22https%3A//cdnjs.cloudflare.com/ajax/libs/Leaflet.awesome-markers/2.0.2/leaflet.awesome-markers.js%22%3E%3C/script%3E%0A%20%20%20%20%3Clink%20rel%3D%22stylesheet%22%20href%3D%22https%3A//cdn.jsdelivr.net/npm/leaflet%401.6.0/dist/leaflet.css%22/%3E%0A%20%20%20%20%3Clink%20rel%3D%22stylesheet%22%20href%3D%22https%3A//maxcdn.bootstrapcdn.com/bootstrap/3.2.0/css/bootstrap.min.css%22/%3E%0A%20%20%20%20%3Clink%20rel%3D%22stylesheet%22%20href%3D%22https%3A//maxcdn.bootstrapcdn.com/bootstrap/3.2.0/css/bootstrap-theme.min.css%22/%3E%0A%20%20%20%20%3Clink%20rel%3D%22stylesheet%22%20href%3D%22https%3A//maxcdn.bootstrapcdn.com/font-awesome/4.6.3/css/font-awesome.min.css%22/%3E%0A%20%20%20%20%3Clink%20rel%3D%22stylesheet%22%20href%3D%22https%3A//cdnjs.cloudflare.com/ajax/libs/Leaflet.awesome-markers/2.0.2/leaflet.awesome-markers.css%22/%3E%0A%20%20%20%20%3Clink%20rel%3D%22stylesheet%22%20href%3D%22https%3A//cdn.jsdelivr.net/gh/python-visualization/folium/folium/templates/leaflet.awesome.rotate.min.css%22/%3E%0A%20%20%20%20%0A%20%20%20%20%20%20%20%20%20%20%20%20%3Cmeta%20name%3D%22viewport%22%20content%3D%22width%3Ddevice-width%2C%0A%20%20%20%20%20%20%20%20%20%20%20%20%20%20%20%20initial-scale%3D1.0%2C%20maximum-scale%3D1.0%2C%20user-scalable%3Dno%22%20/%3E%0A%20%20%20%20%20%20%20%20%20%20%20%20%3Cstyle%3E%0A%20%20%20%20%20%20%20%20%20%20%20%20%20%20%20%20%23map_8cf7595306504606ada507072760ca7c%20%7B%0A%20%20%20%20%20%20%20%20%20%20%20%20%20%20%20%20%20%20%20%20position%3A%20relative%3B%0A%20%20%20%20%20%20%20%20%20%20%20%20%20%20%20%20%20%20%20%20width%3A%20100.0%25%3B%0A%20%20%20%20%20%20%20%20%20%20%20%20%20%20%20%20%20%20%20%20height%3A%20100.0%25%3B%0A%20%20%20%20%20%20%20%20%20%20%20%20%20%20%20%20%20%20%20%20left%3A%200.0%25%3B%0A%20%20%20%20%20%20%20%20%20%20%20%20%20%20%20%20%20%20%20%20top%3A%200.0%25%3B%0A%20%20%20%20%20%20%20%20%20%20%20%20%20%20%20%20%7D%0A%20%20%20%20%20%20%20%20%20%20%20%20%3C/style%3E%0A%20%20%20%20%20%20%20%20%0A%3C/head%3E%0A%3Cbody%3E%20%20%20%20%0A%20%20%20%20%0A%20%20%20%20%20%20%20%20%20%20%20%20%3Cdiv%20class%3D%22folium-map%22%20id%3D%22map_8cf7595306504606ada507072760ca7c%22%20%3E%3C/div%3E%0A%20%20%20%20%20%20%20%20%0A%3C/body%3E%0A%3Cscript%3E%20%20%20%20%0A%20%20%20%20%0A%20%20%20%20%20%20%20%20%20%20%20%20var%20map_8cf7595306504606ada507072760ca7c%20%3D%20L.map%28%0A%20%20%20%20%20%20%20%20%20%20%20%20%20%20%20%20%22map_8cf7595306504606ada507072760ca7c%22%2C%0A%20%20%20%20%20%20%20%20%20%20%20%20%20%20%20%20%7B%0A%20%20%20%20%20%20%20%20%20%20%20%20%20%20%20%20%20%20%20%20center%3A%20%5B37.75464%2C%20-122.44648%5D%2C%0A%20%20%20%20%20%20%20%20%20%20%20%20%20%20%20%20%20%20%20%20crs%3A%20L.CRS.EPSG3857%2C%0A%20%20%20%20%20%20%20%20%20%20%20%20%20%20%20%20%20%20%20%20zoom%3A%2012%2C%0A%20%20%20%20%20%20%20%20%20%20%20%20%20%20%20%20%20%20%20%20zoomControl%3A%20true%2C%0A%20%20%20%20%20%20%20%20%20%20%20%20%20%20%20%20%20%20%20%20preferCanvas%3A%20false%2C%0A%20%20%20%20%20%20%20%20%20%20%20%20%20%20%20%20%7D%0A%20%20%20%20%20%20%20%20%20%20%20%20%29%3B%0A%0A%20%20%20%20%20%20%20%20%20%20%20%20%0A%0A%20%20%20%20%20%20%20%20%0A%20%20%20%20%0A%20%20%20%20%20%20%20%20%20%20%20%20var%20tile_layer_508a146801b54ca187a7bb21af4923c0%20%3D%20L.tileLayer%28%0A%20%20%20%20%20%20%20%20%20%20%20%20%20%20%20%20%22https%3A//%7Bs%7D.tile.openstreetmap.org/%7Bz%7D/%7Bx%7D/%7By%7D.png%22%2C%0A%20%20%20%20%20%20%20%20%20%20%20%20%20%20%20%20%7B%22attribution%22%3A%20%22Data%20by%20%5Cu0026copy%3B%20%5Cu003ca%20href%3D%5C%22http%3A//openstreetmap.org%5C%22%5Cu003eOpenStreetMap%5Cu003c/a%5Cu003e%2C%20under%20%5Cu003ca%20href%3D%5C%22http%3A//www.openstreetmap.org/copyright%5C%22%5Cu003eODbL%5Cu003c/a%5Cu003e.%22%2C%20%22detectRetina%22%3A%20false%2C%20%22maxNativeZoom%22%3A%2018%2C%20%22maxZoom%22%3A%2018%2C%20%22minZoom%22%3A%200%2C%20%22noWrap%22%3A%20false%2C%20%22opacity%22%3A%201%2C%20%22subdomains%22%3A%20%22abc%22%2C%20%22tms%22%3A%20false%7D%0A%20%20%20%20%20%20%20%20%20%20%20%20%29.addTo%28map_8cf7595306504606ada507072760ca7c%29%3B%0A%20%20%20%20%20%20%20%20%0A%20%20%20%20%0A%20%20%20%20%20%20%20%20%20%20%20%20var%20marker_48e0a10773e24b41b31930abbfd3a3e6%20%3D%20L.marker%28%0A%20%20%20%20%20%20%20%20%20%20%20%20%20%20%20%20%5B37.7879363%2C%20-122.40751740318035%5D%2C%0A%20%20%20%20%20%20%20%20%20%20%20%20%20%20%20%20%7B%7D%0A%20%20%20%20%20%20%20%20%20%20%20%20%29.addTo%28map_8cf7595306504606ada507072760ca7c%29%3B%0A%20%20%20%20%20%20%20%20%0A%20%20%20%20%0A%20%20%20%20%20%20%20%20var%20popup_18968bb8c74c4672b5b9fe96dc1524bd%20%3D%20L.popup%28%7B%22maxWidth%22%3A%20%22100%25%22%7D%29%3B%0A%0A%20%20%20%20%20%20%20%20%0A%20%20%20%20%20%20%20%20%20%20%20%20var%20html_ac0abc1e3f7a4811bdd4bb25ac7e88c2%20%3D%20%24%28%60%3Cdiv%20id%3D%22html_ac0abc1e3f7a4811bdd4bb25ac7e88c2%22%20style%3D%22width%3A%20100.0%25%3B%20height%3A%20100.0%25%3B%22%3EUnion%20Square%3C/div%3E%60%29%5B0%5D%3B%0A%20%20%20%20%20%20%20%20%20%20%20%20popup_18968bb8c74c4672b5b9fe96dc1524bd.setContent%28html_ac0abc1e3f7a4811bdd4bb25ac7e88c2%29%3B%0A%20%20%20%20%20%20%20%20%0A%0A%20%20%20%20%20%20%20%20marker_48e0a10773e24b41b31930abbfd3a3e6.bindPopup%28popup_18968bb8c74c4672b5b9fe96dc1524bd%29%0A%20%20%20%20%20%20%20%20%3B%0A%0A%20%20%20%20%20%20%20%20%0A%20%20%20%20%0A%20%20%20%20%0A%20%20%20%20%20%20%20%20%20%20%20%20var%20marker_b15d34ad63a440508b4937c3b1046d51%20%3D%20L.marker%28%0A%20%20%20%20%20%20%20%20%20%20%20%20%20%20%20%20%5B37.80237905%2C%20-122.40583435461313%5D%2C%0A%20%20%20%20%20%20%20%20%20%20%20%20%20%20%20%20%7B%7D%0A%20%20%20%20%20%20%20%20%20%20%20%20%29.addTo%28map_8cf7595306504606ada507072760ca7c%29%3B%0A%20%20%20%20%20%20%20%20%0A%20%20%20%20%0A%20%20%20%20%20%20%20%20var%20popup_b63fec66bb0a4d83b3fd232c1405338c%20%3D%20L.popup%28%7B%22maxWidth%22%3A%20%22100%25%22%7D%29%3B%0A%0A%20%20%20%20%20%20%20%20%0A%20%20%20%20%20%20%20%20%20%20%20%20var%20html_64259faec4cd43c98d7d5a698e26091b%20%3D%20%24%28%60%3Cdiv%20id%3D%22html_64259faec4cd43c98d7d5a698e26091b%22%20style%3D%22width%3A%20100.0%25%3B%20height%3A%20100.0%25%3B%22%3ECoit%20Tower%3C/div%3E%60%29%5B0%5D%3B%0A%20%20%20%20%20%20%20%20%20%20%20%20popup_b63fec66bb0a4d83b3fd232c1405338c.setContent%28html_64259faec4cd43c98d7d5a698e26091b%29%3B%0A%20%20%20%20%20%20%20%20%0A%0A%20%20%20%20%20%20%20%20marker_b15d34ad63a440508b4937c3b1046d51.bindPopup%28popup_b63fec66bb0a4d83b3fd232c1405338c%29%0A%20%20%20%20%20%20%20%20%3B%0A%0A%20%20%20%20%20%20%20%20%0A%20%20%20%20%0A%20%20%20%20%0A%20%20%20%20%20%20%20%20%20%20%20%20var%20marker_a421e5dcd25e4d569427e7733940c60f%20%3D%20L.marker%28%0A%20%20%20%20%20%20%20%20%20%20%20%20%20%20%20%20%5B37.769368099999994%2C%20-122.48218371117709%5D%2C%0A%20%20%20%20%20%20%20%20%20%20%20%20%20%20%20%20%7B%7D%0A%20%20%20%20%20%20%20%20%20%20%20%20%29.addTo%28map_8cf7595306504606ada507072760ca7c%29%3B%0A%20%20%20%20%20%20%20%20%0A%20%20%20%20%0A%20%20%20%20%20%20%20%20var%20popup_bec4aeca2bd44d6c9bcbb966dcf2233c%20%3D%20L.popup%28%7B%22maxWidth%22%3A%20%22100%25%22%7D%29%3B%0A%0A%20%20%20%20%20%20%20%20%0A%20%20%20%20%20%20%20%20%20%20%20%20var%20html_4c1928f0d6f140f0bc95300afeba7ba5%20%3D%20%24%28%60%3Cdiv%20id%3D%22html_4c1928f0d6f140f0bc95300afeba7ba5%22%20style%3D%22width%3A%20100.0%25%3B%20height%3A%20100.0%25%3B%22%3EGolden%20Gate%20Park%3C/div%3E%60%29%5B0%5D%3B%0A%20%20%20%20%20%20%20%20%20%20%20%20popup_bec4aeca2bd44d6c9bcbb966dcf2233c.setContent%28html_4c1928f0d6f140f0bc95300afeba7ba5%29%3B%0A%20%20%20%20%20%20%20%20%0A%0A%20%20%20%20%20%20%20%20marker_a421e5dcd25e4d569427e7733940c60f.bindPopup%28popup_bec4aeca2bd44d6c9bcbb966dcf2233c%29%0A%20%20%20%20%20%20%20%20%3B%0A%0A%20%20%20%20%20%20%20%20%0A%20%20%20%20%0A%20%20%20%20%0A%20%20%20%20%20%20%20%20%20%20%20%20var%20marker_744e5c35593b47beb7ed99a828975e32%20%3D%20L.marker%28%0A%20%20%20%20%20%20%20%20%20%20%20%20%20%20%20%20%5B37.75464%2C%20-122.44648%5D%2C%0A%20%20%20%20%20%20%20%20%20%20%20%20%20%20%20%20%7B%7D%0A%20%20%20%20%20%20%20%20%20%20%20%20%29.addTo%28map_8cf7595306504606ada507072760ca7c%29%3B%0A%20%20%20%20%20%20%20%20%0A%20%20%20%20%0A%20%20%20%20%20%20%20%20var%20popup_003f51f348964b9fb0814b37b2254bcf%20%3D%20L.popup%28%7B%22maxWidth%22%3A%20%22100%25%22%7D%29%3B%0A%0A%20%20%20%20%20%20%20%20%0A%20%20%20%20%20%20%20%20%20%20%20%20var%20html_c1721e878e664bdeafbbc7790e8294c5%20%3D%20%24%28%60%3Cdiv%20id%3D%22html_c1721e878e664bdeafbbc7790e8294c5%22%20style%3D%22width%3A%20100.0%25%3B%20height%3A%20100.0%25%3B%22%3ETwin%20Peaks%3C/div%3E%60%29%5B0%5D%3B%0A%20%20%20%20%20%20%20%20%20%20%20%20popup_003f51f348964b9fb0814b37b2254bcf.setContent%28html_c1721e878e664bdeafbbc7790e8294c5%29%3B%0A%20%20%20%20%20%20%20%20%0A%0A%20%20%20%20%20%20%20%20marker_744e5c35593b47beb7ed99a828975e32.bindPopup%28popup_003f51f348964b9fb0814b37b2254bcf%29%0A%20%20%20%20%20%20%20%20%3B%0A%0A%20%20%20%20%20%20%20%20%0A%20%20%20%20%0A%3C/script%3E onload=\"this.contentDocument.open();this.contentDocument.write(    decodeURIComponent(this.getAttribute('data-html')));this.contentDocument.close();\" allowfullscreen webkitallowfullscreen mozallowfullscreen></iframe></div></div>"
     },
     "metadata": {}
    }
   ],
   "source": [
    "map1 = folium.Map(location=(37.754640,\t-122.446480), zoom_start=12)\n",
    "for index,row in df.iterrows():\n",
    "    # Add the geocoded locations to the map\n",
    "    folium.Marker(location=(row['lat'], row['lon']), popup=row['Landmark']).add_to(map1)\n",
    "\n",
    "display(map1)"
   ]
  },
  {
   "source": [
    "## Next steps - Geocode street addresses\n",
    "\n",
    "You can use this basic workflow to geocode named places, zip codes, or addresses, depending on what is supported by the API you use. See the documentation for `geopy` about available geocoding APIs. Then carefully read the documentation for the geocoding API that you decide to use as they typically require `API keys` and have usage limits.\n",
    "\n",
    "So, I want to fetch some street address data."
   ],
   "cell_type": "markdown",
   "metadata": {}
  },
  {
   "cell_type": "code",
   "execution_count": 21,
   "metadata": {},
   "outputs": [
    {
     "output_type": "execute_result",
     "data": {
      "text/plain": [
       "1163"
      ]
     },
     "metadata": {},
     "execution_count": 21
    }
   ],
   "source": [
    "url = 'https://raw.githubusercontent.com/dlab-geo/geocoding/master/address_data/oak_liquor_stores.csv'\n",
    "r = requests.get(url, allow_redirects=True)\n",
    "open('oak_liquor_stores.csv', 'wb').write(r.content)"
   ]
  },
  {
   "cell_type": "code",
   "execution_count": 26,
   "metadata": {},
   "outputs": [
    {
     "output_type": "execute_result",
     "data": {
      "text/plain": [
       "    id                          name                          street  \\\n",
       "0    1               Wah Fay Liquors                    2101 8th Ave   \n",
       "1    2                 Vision Liquor             1615 Macarthur Blvd   \n",
       "2    3               Souza's Liquors                     394 12th St   \n",
       "3    4                    Tk Liquors                   1500 23th Ave   \n",
       "4    5            Quadriga Wines Inc               6193 Ridgemont Dr   \n",
       "5    6                        Bev Mo               525 Embarcadero W   \n",
       "6    7                Fairfax Liquor              5403 Foothill Blvd   \n",
       "7    8                 Saleen Market                   1200 78th Ave   \n",
       "8    9                  Park Liquors                 828 Franklin St   \n",
       "9   10                  Los Camellos         5913 International Blvd   \n",
       "10  11                 Vernon Market                3210 Harrison St   \n",
       "11  12  Seventh Street Food & Liquor                     1460 7th St   \n",
       "12  13                Sav-Mor Liquor                 1333 Peralta St   \n",
       "13  14                 Vernon Market              3710 Telegraph Ave   \n",
       "14  15     Buckingham Wine & Spirits              3293 Lakeshore Ave   \n",
       "15  16                    Happy Time                     1647 8th St   \n",
       "16  17               Gallager Market  3849 Martin Luther King Jr Way   \n",
       "17  18        Grand Piedmont Liquors                  3900 Grand Ave   \n",
       "18  19        J J Buckley Fine Wines            7305 Edgewater Dr #D   \n",
       "19  20        Carriage Trade Liquors                   350 E 18th St   \n",
       "\n",
       "        city state    zip type  \n",
       "0    Oakland    CA  94606    p  \n",
       "1    Oakland    CA  94602    p  \n",
       "2    Oakland    CA  94607    p  \n",
       "3    Oakland    CA  94606    p  \n",
       "4    Oakland    CA  94619    p  \n",
       "5    Oakland    CA  94607    c  \n",
       "6    Oakland    CA  94601    p  \n",
       "7    Oakland    CA  94621    m  \n",
       "8    Oakland    CA  94607    p  \n",
       "9    Oakland    CA  94621    p  \n",
       "10   Oakland    CA  94611    m  \n",
       "11   Oakland    CA  94607    m  \n",
       "12   Oakland    CA  94607    p  \n",
       "13   Oakland    CA  94609    m  \n",
       "14   Oakland    CA  94610    p  \n",
       "15   Oakland    CA  94607    p  \n",
       "16   Oakland    CA  94609    m  \n",
       "17   Oakland    CA  94610    p  \n",
       "18   Oakland    CA  94621    p  \n",
       "19   Oakland    CA  94606    p  "
      ],
      "text/html": "<div>\n<style scoped>\n    .dataframe tbody tr th:only-of-type {\n        vertical-align: middle;\n    }\n\n    .dataframe tbody tr th {\n        vertical-align: top;\n    }\n\n    .dataframe thead th {\n        text-align: right;\n    }\n</style>\n<table border=\"1\" class=\"dataframe\">\n  <thead>\n    <tr style=\"text-align: right;\">\n      <th></th>\n      <th>id</th>\n      <th>name</th>\n      <th>street</th>\n      <th>city</th>\n      <th>state</th>\n      <th>zip</th>\n      <th>type</th>\n    </tr>\n  </thead>\n  <tbody>\n    <tr>\n      <th>0</th>\n      <td>1</td>\n      <td>Wah Fay Liquors</td>\n      <td>2101 8th Ave</td>\n      <td>Oakland</td>\n      <td>CA</td>\n      <td>94606</td>\n      <td>p</td>\n    </tr>\n    <tr>\n      <th>1</th>\n      <td>2</td>\n      <td>Vision Liquor</td>\n      <td>1615 Macarthur Blvd</td>\n      <td>Oakland</td>\n      <td>CA</td>\n      <td>94602</td>\n      <td>p</td>\n    </tr>\n    <tr>\n      <th>2</th>\n      <td>3</td>\n      <td>Souza's Liquors</td>\n      <td>394 12th St</td>\n      <td>Oakland</td>\n      <td>CA</td>\n      <td>94607</td>\n      <td>p</td>\n    </tr>\n    <tr>\n      <th>3</th>\n      <td>4</td>\n      <td>Tk Liquors</td>\n      <td>1500 23th Ave</td>\n      <td>Oakland</td>\n      <td>CA</td>\n      <td>94606</td>\n      <td>p</td>\n    </tr>\n    <tr>\n      <th>4</th>\n      <td>5</td>\n      <td>Quadriga Wines Inc</td>\n      <td>6193 Ridgemont Dr</td>\n      <td>Oakland</td>\n      <td>CA</td>\n      <td>94619</td>\n      <td>p</td>\n    </tr>\n    <tr>\n      <th>5</th>\n      <td>6</td>\n      <td>Bev Mo</td>\n      <td>525 Embarcadero W</td>\n      <td>Oakland</td>\n      <td>CA</td>\n      <td>94607</td>\n      <td>c</td>\n    </tr>\n    <tr>\n      <th>6</th>\n      <td>7</td>\n      <td>Fairfax Liquor</td>\n      <td>5403 Foothill Blvd</td>\n      <td>Oakland</td>\n      <td>CA</td>\n      <td>94601</td>\n      <td>p</td>\n    </tr>\n    <tr>\n      <th>7</th>\n      <td>8</td>\n      <td>Saleen Market</td>\n      <td>1200 78th Ave</td>\n      <td>Oakland</td>\n      <td>CA</td>\n      <td>94621</td>\n      <td>m</td>\n    </tr>\n    <tr>\n      <th>8</th>\n      <td>9</td>\n      <td>Park Liquors</td>\n      <td>828 Franklin St</td>\n      <td>Oakland</td>\n      <td>CA</td>\n      <td>94607</td>\n      <td>p</td>\n    </tr>\n    <tr>\n      <th>9</th>\n      <td>10</td>\n      <td>Los Camellos</td>\n      <td>5913 International Blvd</td>\n      <td>Oakland</td>\n      <td>CA</td>\n      <td>94621</td>\n      <td>p</td>\n    </tr>\n    <tr>\n      <th>10</th>\n      <td>11</td>\n      <td>Vernon Market</td>\n      <td>3210 Harrison St</td>\n      <td>Oakland</td>\n      <td>CA</td>\n      <td>94611</td>\n      <td>m</td>\n    </tr>\n    <tr>\n      <th>11</th>\n      <td>12</td>\n      <td>Seventh Street Food &amp; Liquor</td>\n      <td>1460 7th St</td>\n      <td>Oakland</td>\n      <td>CA</td>\n      <td>94607</td>\n      <td>m</td>\n    </tr>\n    <tr>\n      <th>12</th>\n      <td>13</td>\n      <td>Sav-Mor Liquor</td>\n      <td>1333 Peralta St</td>\n      <td>Oakland</td>\n      <td>CA</td>\n      <td>94607</td>\n      <td>p</td>\n    </tr>\n    <tr>\n      <th>13</th>\n      <td>14</td>\n      <td>Vernon Market</td>\n      <td>3710 Telegraph Ave</td>\n      <td>Oakland</td>\n      <td>CA</td>\n      <td>94609</td>\n      <td>m</td>\n    </tr>\n    <tr>\n      <th>14</th>\n      <td>15</td>\n      <td>Buckingham Wine &amp; Spirits</td>\n      <td>3293 Lakeshore Ave</td>\n      <td>Oakland</td>\n      <td>CA</td>\n      <td>94610</td>\n      <td>p</td>\n    </tr>\n    <tr>\n      <th>15</th>\n      <td>16</td>\n      <td>Happy Time</td>\n      <td>1647 8th St</td>\n      <td>Oakland</td>\n      <td>CA</td>\n      <td>94607</td>\n      <td>p</td>\n    </tr>\n    <tr>\n      <th>16</th>\n      <td>17</td>\n      <td>Gallager Market</td>\n      <td>3849 Martin Luther King Jr Way</td>\n      <td>Oakland</td>\n      <td>CA</td>\n      <td>94609</td>\n      <td>m</td>\n    </tr>\n    <tr>\n      <th>17</th>\n      <td>18</td>\n      <td>Grand Piedmont Liquors</td>\n      <td>3900 Grand Ave</td>\n      <td>Oakland</td>\n      <td>CA</td>\n      <td>94610</td>\n      <td>p</td>\n    </tr>\n    <tr>\n      <th>18</th>\n      <td>19</td>\n      <td>J J Buckley Fine Wines</td>\n      <td>7305 Edgewater Dr #D</td>\n      <td>Oakland</td>\n      <td>CA</td>\n      <td>94621</td>\n      <td>p</td>\n    </tr>\n    <tr>\n      <th>19</th>\n      <td>20</td>\n      <td>Carriage Trade Liquors</td>\n      <td>350 E 18th St</td>\n      <td>Oakland</td>\n      <td>CA</td>\n      <td>94606</td>\n      <td>p</td>\n    </tr>\n  </tbody>\n</table>\n</div>"
     },
     "metadata": {},
     "execution_count": 26
    }
   ],
   "source": [
    "df = pd.read_csv('oak_liquor_stores.csv')\n",
    "df"
   ]
  },
  {
   "cell_type": "code",
   "execution_count": 27,
   "metadata": {},
   "outputs": [
    {
     "output_type": "execute_result",
     "data": {
      "text/plain": [
       "    id                          name                          street  \\\n",
       "0    1               Wah Fay Liquors                    2101 8th Ave   \n",
       "1    2                 Vision Liquor             1615 Macarthur Blvd   \n",
       "2    3               Souza's Liquors                     394 12th St   \n",
       "3    4                    Tk Liquors                   1500 23th Ave   \n",
       "4    5            Quadriga Wines Inc               6193 Ridgemont Dr   \n",
       "5    6                        Bev Mo               525 Embarcadero W   \n",
       "6    7                Fairfax Liquor              5403 Foothill Blvd   \n",
       "7    8                 Saleen Market                   1200 78th Ave   \n",
       "8    9                  Park Liquors                 828 Franklin St   \n",
       "9   10                  Los Camellos         5913 International Blvd   \n",
       "10  11                 Vernon Market                3210 Harrison St   \n",
       "11  12  Seventh Street Food & Liquor                     1460 7th St   \n",
       "12  13                Sav-Mor Liquor                 1333 Peralta St   \n",
       "13  14                 Vernon Market              3710 Telegraph Ave   \n",
       "14  15     Buckingham Wine & Spirits              3293 Lakeshore Ave   \n",
       "15  16                    Happy Time                     1647 8th St   \n",
       "16  17               Gallager Market  3849 Martin Luther King Jr Way   \n",
       "17  18        Grand Piedmont Liquors                  3900 Grand Ave   \n",
       "18  19        J J Buckley Fine Wines            7305 Edgewater Dr #D   \n",
       "19  20        Carriage Trade Liquors                   350 E 18th St   \n",
       "\n",
       "        city state    zip type                                      address  \n",
       "0    Oakland    CA  94606    p                    2101 8th Ave, Oakland, CA  \n",
       "1    Oakland    CA  94602    p             1615 Macarthur Blvd, Oakland, CA  \n",
       "2    Oakland    CA  94607    p                     394 12th St, Oakland, CA  \n",
       "3    Oakland    CA  94606    p                   1500 23th Ave, Oakland, CA  \n",
       "4    Oakland    CA  94619    p               6193 Ridgemont Dr, Oakland, CA  \n",
       "5    Oakland    CA  94607    c              525 Embarcadero W,  Oakland, CA  \n",
       "6    Oakland    CA  94601    p              5403 Foothill Blvd, Oakland, CA  \n",
       "7    Oakland    CA  94621    m                   1200 78th Ave, Oakland, CA  \n",
       "8    Oakland    CA  94607    p                 828 Franklin St, Oakland, CA  \n",
       "9    Oakland    CA  94621    p         5913 International Blvd, Oakland, CA  \n",
       "10   Oakland    CA  94611    m                3210 Harrison St, Oakland, CA  \n",
       "11   Oakland    CA  94607    m                     1460 7th St, Oakland, CA  \n",
       "12   Oakland    CA  94607    p                 1333 Peralta St, Oakland, CA  \n",
       "13   Oakland    CA  94609    m              3710 Telegraph Ave, Oakland, CA  \n",
       "14   Oakland    CA  94610    p              3293 Lakeshore Ave, Oakland, CA  \n",
       "15   Oakland    CA  94607    p                     1647 8th St, Oakland, CA  \n",
       "16   Oakland    CA  94609    m  3849 Martin Luther King Jr Way, Oakland, CA  \n",
       "17   Oakland    CA  94610    p                  3900 Grand Ave, Oakland, CA  \n",
       "18   Oakland    CA  94621    p            7305 Edgewater Dr #D, Oakland, CA  \n",
       "19   Oakland    CA  94606    p                   350 E 18th St, Oakland, CA  "
      ],
      "text/html": "<div>\n<style scoped>\n    .dataframe tbody tr th:only-of-type {\n        vertical-align: middle;\n    }\n\n    .dataframe tbody tr th {\n        vertical-align: top;\n    }\n\n    .dataframe thead th {\n        text-align: right;\n    }\n</style>\n<table border=\"1\" class=\"dataframe\">\n  <thead>\n    <tr style=\"text-align: right;\">\n      <th></th>\n      <th>id</th>\n      <th>name</th>\n      <th>street</th>\n      <th>city</th>\n      <th>state</th>\n      <th>zip</th>\n      <th>type</th>\n      <th>address</th>\n    </tr>\n  </thead>\n  <tbody>\n    <tr>\n      <th>0</th>\n      <td>1</td>\n      <td>Wah Fay Liquors</td>\n      <td>2101 8th Ave</td>\n      <td>Oakland</td>\n      <td>CA</td>\n      <td>94606</td>\n      <td>p</td>\n      <td>2101 8th Ave, Oakland, CA</td>\n    </tr>\n    <tr>\n      <th>1</th>\n      <td>2</td>\n      <td>Vision Liquor</td>\n      <td>1615 Macarthur Blvd</td>\n      <td>Oakland</td>\n      <td>CA</td>\n      <td>94602</td>\n      <td>p</td>\n      <td>1615 Macarthur Blvd, Oakland, CA</td>\n    </tr>\n    <tr>\n      <th>2</th>\n      <td>3</td>\n      <td>Souza's Liquors</td>\n      <td>394 12th St</td>\n      <td>Oakland</td>\n      <td>CA</td>\n      <td>94607</td>\n      <td>p</td>\n      <td>394 12th St, Oakland, CA</td>\n    </tr>\n    <tr>\n      <th>3</th>\n      <td>4</td>\n      <td>Tk Liquors</td>\n      <td>1500 23th Ave</td>\n      <td>Oakland</td>\n      <td>CA</td>\n      <td>94606</td>\n      <td>p</td>\n      <td>1500 23th Ave, Oakland, CA</td>\n    </tr>\n    <tr>\n      <th>4</th>\n      <td>5</td>\n      <td>Quadriga Wines Inc</td>\n      <td>6193 Ridgemont Dr</td>\n      <td>Oakland</td>\n      <td>CA</td>\n      <td>94619</td>\n      <td>p</td>\n      <td>6193 Ridgemont Dr, Oakland, CA</td>\n    </tr>\n    <tr>\n      <th>5</th>\n      <td>6</td>\n      <td>Bev Mo</td>\n      <td>525 Embarcadero W</td>\n      <td>Oakland</td>\n      <td>CA</td>\n      <td>94607</td>\n      <td>c</td>\n      <td>525 Embarcadero W,  Oakland, CA</td>\n    </tr>\n    <tr>\n      <th>6</th>\n      <td>7</td>\n      <td>Fairfax Liquor</td>\n      <td>5403 Foothill Blvd</td>\n      <td>Oakland</td>\n      <td>CA</td>\n      <td>94601</td>\n      <td>p</td>\n      <td>5403 Foothill Blvd, Oakland, CA</td>\n    </tr>\n    <tr>\n      <th>7</th>\n      <td>8</td>\n      <td>Saleen Market</td>\n      <td>1200 78th Ave</td>\n      <td>Oakland</td>\n      <td>CA</td>\n      <td>94621</td>\n      <td>m</td>\n      <td>1200 78th Ave, Oakland, CA</td>\n    </tr>\n    <tr>\n      <th>8</th>\n      <td>9</td>\n      <td>Park Liquors</td>\n      <td>828 Franklin St</td>\n      <td>Oakland</td>\n      <td>CA</td>\n      <td>94607</td>\n      <td>p</td>\n      <td>828 Franklin St, Oakland, CA</td>\n    </tr>\n    <tr>\n      <th>9</th>\n      <td>10</td>\n      <td>Los Camellos</td>\n      <td>5913 International Blvd</td>\n      <td>Oakland</td>\n      <td>CA</td>\n      <td>94621</td>\n      <td>p</td>\n      <td>5913 International Blvd, Oakland, CA</td>\n    </tr>\n    <tr>\n      <th>10</th>\n      <td>11</td>\n      <td>Vernon Market</td>\n      <td>3210 Harrison St</td>\n      <td>Oakland</td>\n      <td>CA</td>\n      <td>94611</td>\n      <td>m</td>\n      <td>3210 Harrison St, Oakland, CA</td>\n    </tr>\n    <tr>\n      <th>11</th>\n      <td>12</td>\n      <td>Seventh Street Food &amp; Liquor</td>\n      <td>1460 7th St</td>\n      <td>Oakland</td>\n      <td>CA</td>\n      <td>94607</td>\n      <td>m</td>\n      <td>1460 7th St, Oakland, CA</td>\n    </tr>\n    <tr>\n      <th>12</th>\n      <td>13</td>\n      <td>Sav-Mor Liquor</td>\n      <td>1333 Peralta St</td>\n      <td>Oakland</td>\n      <td>CA</td>\n      <td>94607</td>\n      <td>p</td>\n      <td>1333 Peralta St, Oakland, CA</td>\n    </tr>\n    <tr>\n      <th>13</th>\n      <td>14</td>\n      <td>Vernon Market</td>\n      <td>3710 Telegraph Ave</td>\n      <td>Oakland</td>\n      <td>CA</td>\n      <td>94609</td>\n      <td>m</td>\n      <td>3710 Telegraph Ave, Oakland, CA</td>\n    </tr>\n    <tr>\n      <th>14</th>\n      <td>15</td>\n      <td>Buckingham Wine &amp; Spirits</td>\n      <td>3293 Lakeshore Ave</td>\n      <td>Oakland</td>\n      <td>CA</td>\n      <td>94610</td>\n      <td>p</td>\n      <td>3293 Lakeshore Ave, Oakland, CA</td>\n    </tr>\n    <tr>\n      <th>15</th>\n      <td>16</td>\n      <td>Happy Time</td>\n      <td>1647 8th St</td>\n      <td>Oakland</td>\n      <td>CA</td>\n      <td>94607</td>\n      <td>p</td>\n      <td>1647 8th St, Oakland, CA</td>\n    </tr>\n    <tr>\n      <th>16</th>\n      <td>17</td>\n      <td>Gallager Market</td>\n      <td>3849 Martin Luther King Jr Way</td>\n      <td>Oakland</td>\n      <td>CA</td>\n      <td>94609</td>\n      <td>m</td>\n      <td>3849 Martin Luther King Jr Way, Oakland, CA</td>\n    </tr>\n    <tr>\n      <th>17</th>\n      <td>18</td>\n      <td>Grand Piedmont Liquors</td>\n      <td>3900 Grand Ave</td>\n      <td>Oakland</td>\n      <td>CA</td>\n      <td>94610</td>\n      <td>p</td>\n      <td>3900 Grand Ave, Oakland, CA</td>\n    </tr>\n    <tr>\n      <th>18</th>\n      <td>19</td>\n      <td>J J Buckley Fine Wines</td>\n      <td>7305 Edgewater Dr #D</td>\n      <td>Oakland</td>\n      <td>CA</td>\n      <td>94621</td>\n      <td>p</td>\n      <td>7305 Edgewater Dr #D, Oakland, CA</td>\n    </tr>\n    <tr>\n      <th>19</th>\n      <td>20</td>\n      <td>Carriage Trade Liquors</td>\n      <td>350 E 18th St</td>\n      <td>Oakland</td>\n      <td>CA</td>\n      <td>94606</td>\n      <td>p</td>\n      <td>350 E 18th St, Oakland, CA</td>\n    </tr>\n  </tbody>\n</table>\n</div>"
     },
     "metadata": {},
     "execution_count": 27
    }
   ],
   "source": [
    "df['address'] = (df['street'] + ', ' + df['city'] + ', ' + df['state']).str.strip()\n",
    "df"
   ]
  },
  {
   "cell_type": "code",
   "execution_count": 31,
   "metadata": {},
   "outputs": [],
   "source": [
    "def geocode_my_address(address):\n",
    "    print('geocoding:', address)\n",
    "    try:\n",
    "        x = geolocator.geocode(address)\n",
    "        lon_lat = x.longitude, x.latitude\n",
    "        return lon_lat\n",
    "    except:\n",
    "        print(\"Check address:\", address, \"there is a problem with it\")\n",
    "        lon_lat = None, None\n",
    "        return lon_lat"
   ]
  },
  {
   "cell_type": "code",
   "execution_count": 32,
   "metadata": {},
   "outputs": [
    {
     "output_type": "stream",
     "name": "stdout",
     "text": [
      "geocoding: 2101 8th Ave, Oakland, CA\n",
      "geocoding: 1615 Macarthur Blvd, Oakland, CA\n",
      "geocoding: 394 12th St, Oakland, CA\n",
      "geocoding: 1500 23th Ave, Oakland, CA\n",
      "Check address: 1500 23th Ave, Oakland, CA there is a problem with it\n",
      "geocoding: 6193 Ridgemont Dr, Oakland, CA\n",
      "geocoding: 525 Embarcadero W,  Oakland, CA\n",
      "geocoding: 5403 Foothill Blvd, Oakland, CA\n",
      "geocoding: 1200 78th Ave, Oakland, CA\n",
      "geocoding: 828 Franklin St, Oakland, CA\n",
      "geocoding: 5913 International Blvd, Oakland, CA\n",
      "geocoding: 3210 Harrison St, Oakland, CA\n",
      "geocoding: 1460 7th St, Oakland, CA\n",
      "geocoding: 1333 Peralta St, Oakland, CA\n",
      "geocoding: 3710 Telegraph Ave, Oakland, CA\n",
      "geocoding: 3293 Lakeshore Ave, Oakland, CA\n",
      "geocoding: 1647 8th St, Oakland, CA\n",
      "geocoding: 3849 Martin Luther King Jr Way, Oakland, CA\n",
      "Check address: 3849 Martin Luther King Jr Way, Oakland, CA there is a problem with it\n",
      "geocoding: 3900 Grand Ave, Oakland, CA\n",
      "geocoding: 7305 Edgewater Dr #D, Oakland, CA\n",
      "geocoding: 350 E 18th St, Oakland, CA\n"
     ]
    }
   ],
   "source": [
    "df['lon'], df['lat'] = zip(*df['address'].apply(lambda x: geocode_my_address(x)))"
   ]
  },
  {
   "cell_type": "code",
   "execution_count": 33,
   "metadata": {},
   "outputs": [
    {
     "output_type": "execute_result",
     "data": {
      "text/plain": [
       "    id                          name                          street  \\\n",
       "0    1               Wah Fay Liquors                    2101 8th Ave   \n",
       "1    2                 Vision Liquor             1615 Macarthur Blvd   \n",
       "2    3               Souza's Liquors                     394 12th St   \n",
       "3    4                    Tk Liquors                   1500 23th Ave   \n",
       "4    5            Quadriga Wines Inc               6193 Ridgemont Dr   \n",
       "5    6                        Bev Mo               525 Embarcadero W   \n",
       "6    7                Fairfax Liquor              5403 Foothill Blvd   \n",
       "7    8                 Saleen Market                   1200 78th Ave   \n",
       "8    9                  Park Liquors                 828 Franklin St   \n",
       "9   10                  Los Camellos         5913 International Blvd   \n",
       "10  11                 Vernon Market                3210 Harrison St   \n",
       "11  12  Seventh Street Food & Liquor                     1460 7th St   \n",
       "12  13                Sav-Mor Liquor                 1333 Peralta St   \n",
       "13  14                 Vernon Market              3710 Telegraph Ave   \n",
       "14  15     Buckingham Wine & Spirits              3293 Lakeshore Ave   \n",
       "15  16                    Happy Time                     1647 8th St   \n",
       "16  17               Gallager Market  3849 Martin Luther King Jr Way   \n",
       "17  18        Grand Piedmont Liquors                  3900 Grand Ave   \n",
       "18  19        J J Buckley Fine Wines            7305 Edgewater Dr #D   \n",
       "19  20        Carriage Trade Liquors                   350 E 18th St   \n",
       "\n",
       "        city state    zip type                                      address  \\\n",
       "0    Oakland    CA  94606    p                    2101 8th Ave, Oakland, CA   \n",
       "1    Oakland    CA  94602    p             1615 Macarthur Blvd, Oakland, CA   \n",
       "2    Oakland    CA  94607    p                     394 12th St, Oakland, CA   \n",
       "3    Oakland    CA  94606    p                   1500 23th Ave, Oakland, CA   \n",
       "4    Oakland    CA  94619    p               6193 Ridgemont Dr, Oakland, CA   \n",
       "5    Oakland    CA  94607    c              525 Embarcadero W,  Oakland, CA   \n",
       "6    Oakland    CA  94601    p              5403 Foothill Blvd, Oakland, CA   \n",
       "7    Oakland    CA  94621    m                   1200 78th Ave, Oakland, CA   \n",
       "8    Oakland    CA  94607    p                 828 Franklin St, Oakland, CA   \n",
       "9    Oakland    CA  94621    p         5913 International Blvd, Oakland, CA   \n",
       "10   Oakland    CA  94611    m                3210 Harrison St, Oakland, CA   \n",
       "11   Oakland    CA  94607    m                     1460 7th St, Oakland, CA   \n",
       "12   Oakland    CA  94607    p                 1333 Peralta St, Oakland, CA   \n",
       "13   Oakland    CA  94609    m              3710 Telegraph Ave, Oakland, CA   \n",
       "14   Oakland    CA  94610    p              3293 Lakeshore Ave, Oakland, CA   \n",
       "15   Oakland    CA  94607    p                     1647 8th St, Oakland, CA   \n",
       "16   Oakland    CA  94609    m  3849 Martin Luther King Jr Way, Oakland, CA   \n",
       "17   Oakland    CA  94610    p                  3900 Grand Ave, Oakland, CA   \n",
       "18   Oakland    CA  94621    p            7305 Edgewater Dr #D, Oakland, CA   \n",
       "19   Oakland    CA  94606    p                   350 E 18th St, Oakland, CA   \n",
       "\n",
       "           lon        lat  \n",
       "0  -122.244874  37.798335  \n",
       "1  -122.223741  37.800272  \n",
       "2  -122.270427  37.802578  \n",
       "3         None       None  \n",
       "4  -122.167198  37.784349  \n",
       "5  -122.278732   37.79593  \n",
       "6  -122.208973  37.773331  \n",
       "7  -122.186324  37.755535  \n",
       "8   -122.27202  37.800102  \n",
       "9  -122.214515  37.772124  \n",
       "10 -122.255811  37.817983  \n",
       "11 -122.295336  37.805524  \n",
       "12 -122.294186  37.810885  \n",
       "13 -122.263274  37.833399  \n",
       "14 -122.244286  37.810971  \n",
       "15 -122.298874  37.807172  \n",
       "16        None       None  \n",
       "17 -122.245161  37.817399  \n",
       "18 -122.197703  37.737327  \n",
       "19 -122.251147  37.799418  "
      ],
      "text/html": "<div>\n<style scoped>\n    .dataframe tbody tr th:only-of-type {\n        vertical-align: middle;\n    }\n\n    .dataframe tbody tr th {\n        vertical-align: top;\n    }\n\n    .dataframe thead th {\n        text-align: right;\n    }\n</style>\n<table border=\"1\" class=\"dataframe\">\n  <thead>\n    <tr style=\"text-align: right;\">\n      <th></th>\n      <th>id</th>\n      <th>name</th>\n      <th>street</th>\n      <th>city</th>\n      <th>state</th>\n      <th>zip</th>\n      <th>type</th>\n      <th>address</th>\n      <th>lon</th>\n      <th>lat</th>\n    </tr>\n  </thead>\n  <tbody>\n    <tr>\n      <th>0</th>\n      <td>1</td>\n      <td>Wah Fay Liquors</td>\n      <td>2101 8th Ave</td>\n      <td>Oakland</td>\n      <td>CA</td>\n      <td>94606</td>\n      <td>p</td>\n      <td>2101 8th Ave, Oakland, CA</td>\n      <td>-122.244874</td>\n      <td>37.798335</td>\n    </tr>\n    <tr>\n      <th>1</th>\n      <td>2</td>\n      <td>Vision Liquor</td>\n      <td>1615 Macarthur Blvd</td>\n      <td>Oakland</td>\n      <td>CA</td>\n      <td>94602</td>\n      <td>p</td>\n      <td>1615 Macarthur Blvd, Oakland, CA</td>\n      <td>-122.223741</td>\n      <td>37.800272</td>\n    </tr>\n    <tr>\n      <th>2</th>\n      <td>3</td>\n      <td>Souza's Liquors</td>\n      <td>394 12th St</td>\n      <td>Oakland</td>\n      <td>CA</td>\n      <td>94607</td>\n      <td>p</td>\n      <td>394 12th St, Oakland, CA</td>\n      <td>-122.270427</td>\n      <td>37.802578</td>\n    </tr>\n    <tr>\n      <th>3</th>\n      <td>4</td>\n      <td>Tk Liquors</td>\n      <td>1500 23th Ave</td>\n      <td>Oakland</td>\n      <td>CA</td>\n      <td>94606</td>\n      <td>p</td>\n      <td>1500 23th Ave, Oakland, CA</td>\n      <td>None</td>\n      <td>None</td>\n    </tr>\n    <tr>\n      <th>4</th>\n      <td>5</td>\n      <td>Quadriga Wines Inc</td>\n      <td>6193 Ridgemont Dr</td>\n      <td>Oakland</td>\n      <td>CA</td>\n      <td>94619</td>\n      <td>p</td>\n      <td>6193 Ridgemont Dr, Oakland, CA</td>\n      <td>-122.167198</td>\n      <td>37.784349</td>\n    </tr>\n    <tr>\n      <th>5</th>\n      <td>6</td>\n      <td>Bev Mo</td>\n      <td>525 Embarcadero W</td>\n      <td>Oakland</td>\n      <td>CA</td>\n      <td>94607</td>\n      <td>c</td>\n      <td>525 Embarcadero W,  Oakland, CA</td>\n      <td>-122.278732</td>\n      <td>37.79593</td>\n    </tr>\n    <tr>\n      <th>6</th>\n      <td>7</td>\n      <td>Fairfax Liquor</td>\n      <td>5403 Foothill Blvd</td>\n      <td>Oakland</td>\n      <td>CA</td>\n      <td>94601</td>\n      <td>p</td>\n      <td>5403 Foothill Blvd, Oakland, CA</td>\n      <td>-122.208973</td>\n      <td>37.773331</td>\n    </tr>\n    <tr>\n      <th>7</th>\n      <td>8</td>\n      <td>Saleen Market</td>\n      <td>1200 78th Ave</td>\n      <td>Oakland</td>\n      <td>CA</td>\n      <td>94621</td>\n      <td>m</td>\n      <td>1200 78th Ave, Oakland, CA</td>\n      <td>-122.186324</td>\n      <td>37.755535</td>\n    </tr>\n    <tr>\n      <th>8</th>\n      <td>9</td>\n      <td>Park Liquors</td>\n      <td>828 Franklin St</td>\n      <td>Oakland</td>\n      <td>CA</td>\n      <td>94607</td>\n      <td>p</td>\n      <td>828 Franklin St, Oakland, CA</td>\n      <td>-122.27202</td>\n      <td>37.800102</td>\n    </tr>\n    <tr>\n      <th>9</th>\n      <td>10</td>\n      <td>Los Camellos</td>\n      <td>5913 International Blvd</td>\n      <td>Oakland</td>\n      <td>CA</td>\n      <td>94621</td>\n      <td>p</td>\n      <td>5913 International Blvd, Oakland, CA</td>\n      <td>-122.214515</td>\n      <td>37.772124</td>\n    </tr>\n    <tr>\n      <th>10</th>\n      <td>11</td>\n      <td>Vernon Market</td>\n      <td>3210 Harrison St</td>\n      <td>Oakland</td>\n      <td>CA</td>\n      <td>94611</td>\n      <td>m</td>\n      <td>3210 Harrison St, Oakland, CA</td>\n      <td>-122.255811</td>\n      <td>37.817983</td>\n    </tr>\n    <tr>\n      <th>11</th>\n      <td>12</td>\n      <td>Seventh Street Food &amp; Liquor</td>\n      <td>1460 7th St</td>\n      <td>Oakland</td>\n      <td>CA</td>\n      <td>94607</td>\n      <td>m</td>\n      <td>1460 7th St, Oakland, CA</td>\n      <td>-122.295336</td>\n      <td>37.805524</td>\n    </tr>\n    <tr>\n      <th>12</th>\n      <td>13</td>\n      <td>Sav-Mor Liquor</td>\n      <td>1333 Peralta St</td>\n      <td>Oakland</td>\n      <td>CA</td>\n      <td>94607</td>\n      <td>p</td>\n      <td>1333 Peralta St, Oakland, CA</td>\n      <td>-122.294186</td>\n      <td>37.810885</td>\n    </tr>\n    <tr>\n      <th>13</th>\n      <td>14</td>\n      <td>Vernon Market</td>\n      <td>3710 Telegraph Ave</td>\n      <td>Oakland</td>\n      <td>CA</td>\n      <td>94609</td>\n      <td>m</td>\n      <td>3710 Telegraph Ave, Oakland, CA</td>\n      <td>-122.263274</td>\n      <td>37.833399</td>\n    </tr>\n    <tr>\n      <th>14</th>\n      <td>15</td>\n      <td>Buckingham Wine &amp; Spirits</td>\n      <td>3293 Lakeshore Ave</td>\n      <td>Oakland</td>\n      <td>CA</td>\n      <td>94610</td>\n      <td>p</td>\n      <td>3293 Lakeshore Ave, Oakland, CA</td>\n      <td>-122.244286</td>\n      <td>37.810971</td>\n    </tr>\n    <tr>\n      <th>15</th>\n      <td>16</td>\n      <td>Happy Time</td>\n      <td>1647 8th St</td>\n      <td>Oakland</td>\n      <td>CA</td>\n      <td>94607</td>\n      <td>p</td>\n      <td>1647 8th St, Oakland, CA</td>\n      <td>-122.298874</td>\n      <td>37.807172</td>\n    </tr>\n    <tr>\n      <th>16</th>\n      <td>17</td>\n      <td>Gallager Market</td>\n      <td>3849 Martin Luther King Jr Way</td>\n      <td>Oakland</td>\n      <td>CA</td>\n      <td>94609</td>\n      <td>m</td>\n      <td>3849 Martin Luther King Jr Way, Oakland, CA</td>\n      <td>None</td>\n      <td>None</td>\n    </tr>\n    <tr>\n      <th>17</th>\n      <td>18</td>\n      <td>Grand Piedmont Liquors</td>\n      <td>3900 Grand Ave</td>\n      <td>Oakland</td>\n      <td>CA</td>\n      <td>94610</td>\n      <td>p</td>\n      <td>3900 Grand Ave, Oakland, CA</td>\n      <td>-122.245161</td>\n      <td>37.817399</td>\n    </tr>\n    <tr>\n      <th>18</th>\n      <td>19</td>\n      <td>J J Buckley Fine Wines</td>\n      <td>7305 Edgewater Dr #D</td>\n      <td>Oakland</td>\n      <td>CA</td>\n      <td>94621</td>\n      <td>p</td>\n      <td>7305 Edgewater Dr #D, Oakland, CA</td>\n      <td>-122.197703</td>\n      <td>37.737327</td>\n    </tr>\n    <tr>\n      <th>19</th>\n      <td>20</td>\n      <td>Carriage Trade Liquors</td>\n      <td>350 E 18th St</td>\n      <td>Oakland</td>\n      <td>CA</td>\n      <td>94606</td>\n      <td>p</td>\n      <td>350 E 18th St, Oakland, CA</td>\n      <td>-122.251147</td>\n      <td>37.799418</td>\n    </tr>\n  </tbody>\n</table>\n</div>"
     },
     "metadata": {},
     "execution_count": 33
    }
   ],
   "source": [
    "df"
   ]
  },
  {
   "source": [
    "Map it out"
   ],
   "cell_type": "markdown",
   "metadata": {}
  },
  {
   "cell_type": "code",
   "execution_count": 39,
   "metadata": {},
   "outputs": [
    {
     "output_type": "execute_result",
     "data": {
      "text/plain": [
       "    id                          name                   street      city state  \\\n",
       "0    1               Wah Fay Liquors             2101 8th Ave   Oakland    CA   \n",
       "1    2                 Vision Liquor      1615 Macarthur Blvd   Oakland    CA   \n",
       "2    3               Souza's Liquors              394 12th St   Oakland    CA   \n",
       "4    5            Quadriga Wines Inc        6193 Ridgemont Dr   Oakland    CA   \n",
       "5    6                        Bev Mo        525 Embarcadero W   Oakland    CA   \n",
       "6    7                Fairfax Liquor       5403 Foothill Blvd   Oakland    CA   \n",
       "7    8                 Saleen Market            1200 78th Ave   Oakland    CA   \n",
       "8    9                  Park Liquors          828 Franklin St   Oakland    CA   \n",
       "9   10                  Los Camellos  5913 International Blvd   Oakland    CA   \n",
       "10  11                 Vernon Market         3210 Harrison St   Oakland    CA   \n",
       "11  12  Seventh Street Food & Liquor              1460 7th St   Oakland    CA   \n",
       "12  13                Sav-Mor Liquor          1333 Peralta St   Oakland    CA   \n",
       "13  14                 Vernon Market       3710 Telegraph Ave   Oakland    CA   \n",
       "14  15     Buckingham Wine & Spirits       3293 Lakeshore Ave   Oakland    CA   \n",
       "15  16                    Happy Time              1647 8th St   Oakland    CA   \n",
       "17  18        Grand Piedmont Liquors           3900 Grand Ave   Oakland    CA   \n",
       "18  19        J J Buckley Fine Wines     7305 Edgewater Dr #D   Oakland    CA   \n",
       "19  20        Carriage Trade Liquors            350 E 18th St   Oakland    CA   \n",
       "\n",
       "      zip type                               address         lon        lat  \n",
       "0   94606    p             2101 8th Ave, Oakland, CA -122.244874  37.798335  \n",
       "1   94602    p      1615 Macarthur Blvd, Oakland, CA -122.223741  37.800272  \n",
       "2   94607    p              394 12th St, Oakland, CA -122.270427  37.802578  \n",
       "4   94619    p        6193 Ridgemont Dr, Oakland, CA -122.167198  37.784349  \n",
       "5   94607    c       525 Embarcadero W,  Oakland, CA -122.278732   37.79593  \n",
       "6   94601    p       5403 Foothill Blvd, Oakland, CA -122.208973  37.773331  \n",
       "7   94621    m            1200 78th Ave, Oakland, CA -122.186324  37.755535  \n",
       "8   94607    p          828 Franklin St, Oakland, CA  -122.27202  37.800102  \n",
       "9   94621    p  5913 International Blvd, Oakland, CA -122.214515  37.772124  \n",
       "10  94611    m         3210 Harrison St, Oakland, CA -122.255811  37.817983  \n",
       "11  94607    m              1460 7th St, Oakland, CA -122.295336  37.805524  \n",
       "12  94607    p          1333 Peralta St, Oakland, CA -122.294186  37.810885  \n",
       "13  94609    m       3710 Telegraph Ave, Oakland, CA -122.263274  37.833399  \n",
       "14  94610    p       3293 Lakeshore Ave, Oakland, CA -122.244286  37.810971  \n",
       "15  94607    p              1647 8th St, Oakland, CA -122.298874  37.807172  \n",
       "17  94610    p           3900 Grand Ave, Oakland, CA -122.245161  37.817399  \n",
       "18  94621    p     7305 Edgewater Dr #D, Oakland, CA -122.197703  37.737327  \n",
       "19  94606    p            350 E 18th St, Oakland, CA -122.251147  37.799418  "
      ],
      "text/html": "<div>\n<style scoped>\n    .dataframe tbody tr th:only-of-type {\n        vertical-align: middle;\n    }\n\n    .dataframe tbody tr th {\n        vertical-align: top;\n    }\n\n    .dataframe thead th {\n        text-align: right;\n    }\n</style>\n<table border=\"1\" class=\"dataframe\">\n  <thead>\n    <tr style=\"text-align: right;\">\n      <th></th>\n      <th>id</th>\n      <th>name</th>\n      <th>street</th>\n      <th>city</th>\n      <th>state</th>\n      <th>zip</th>\n      <th>type</th>\n      <th>address</th>\n      <th>lon</th>\n      <th>lat</th>\n    </tr>\n  </thead>\n  <tbody>\n    <tr>\n      <th>0</th>\n      <td>1</td>\n      <td>Wah Fay Liquors</td>\n      <td>2101 8th Ave</td>\n      <td>Oakland</td>\n      <td>CA</td>\n      <td>94606</td>\n      <td>p</td>\n      <td>2101 8th Ave, Oakland, CA</td>\n      <td>-122.244874</td>\n      <td>37.798335</td>\n    </tr>\n    <tr>\n      <th>1</th>\n      <td>2</td>\n      <td>Vision Liquor</td>\n      <td>1615 Macarthur Blvd</td>\n      <td>Oakland</td>\n      <td>CA</td>\n      <td>94602</td>\n      <td>p</td>\n      <td>1615 Macarthur Blvd, Oakland, CA</td>\n      <td>-122.223741</td>\n      <td>37.800272</td>\n    </tr>\n    <tr>\n      <th>2</th>\n      <td>3</td>\n      <td>Souza's Liquors</td>\n      <td>394 12th St</td>\n      <td>Oakland</td>\n      <td>CA</td>\n      <td>94607</td>\n      <td>p</td>\n      <td>394 12th St, Oakland, CA</td>\n      <td>-122.270427</td>\n      <td>37.802578</td>\n    </tr>\n    <tr>\n      <th>4</th>\n      <td>5</td>\n      <td>Quadriga Wines Inc</td>\n      <td>6193 Ridgemont Dr</td>\n      <td>Oakland</td>\n      <td>CA</td>\n      <td>94619</td>\n      <td>p</td>\n      <td>6193 Ridgemont Dr, Oakland, CA</td>\n      <td>-122.167198</td>\n      <td>37.784349</td>\n    </tr>\n    <tr>\n      <th>5</th>\n      <td>6</td>\n      <td>Bev Mo</td>\n      <td>525 Embarcadero W</td>\n      <td>Oakland</td>\n      <td>CA</td>\n      <td>94607</td>\n      <td>c</td>\n      <td>525 Embarcadero W,  Oakland, CA</td>\n      <td>-122.278732</td>\n      <td>37.79593</td>\n    </tr>\n    <tr>\n      <th>6</th>\n      <td>7</td>\n      <td>Fairfax Liquor</td>\n      <td>5403 Foothill Blvd</td>\n      <td>Oakland</td>\n      <td>CA</td>\n      <td>94601</td>\n      <td>p</td>\n      <td>5403 Foothill Blvd, Oakland, CA</td>\n      <td>-122.208973</td>\n      <td>37.773331</td>\n    </tr>\n    <tr>\n      <th>7</th>\n      <td>8</td>\n      <td>Saleen Market</td>\n      <td>1200 78th Ave</td>\n      <td>Oakland</td>\n      <td>CA</td>\n      <td>94621</td>\n      <td>m</td>\n      <td>1200 78th Ave, Oakland, CA</td>\n      <td>-122.186324</td>\n      <td>37.755535</td>\n    </tr>\n    <tr>\n      <th>8</th>\n      <td>9</td>\n      <td>Park Liquors</td>\n      <td>828 Franklin St</td>\n      <td>Oakland</td>\n      <td>CA</td>\n      <td>94607</td>\n      <td>p</td>\n      <td>828 Franklin St, Oakland, CA</td>\n      <td>-122.27202</td>\n      <td>37.800102</td>\n    </tr>\n    <tr>\n      <th>9</th>\n      <td>10</td>\n      <td>Los Camellos</td>\n      <td>5913 International Blvd</td>\n      <td>Oakland</td>\n      <td>CA</td>\n      <td>94621</td>\n      <td>p</td>\n      <td>5913 International Blvd, Oakland, CA</td>\n      <td>-122.214515</td>\n      <td>37.772124</td>\n    </tr>\n    <tr>\n      <th>10</th>\n      <td>11</td>\n      <td>Vernon Market</td>\n      <td>3210 Harrison St</td>\n      <td>Oakland</td>\n      <td>CA</td>\n      <td>94611</td>\n      <td>m</td>\n      <td>3210 Harrison St, Oakland, CA</td>\n      <td>-122.255811</td>\n      <td>37.817983</td>\n    </tr>\n    <tr>\n      <th>11</th>\n      <td>12</td>\n      <td>Seventh Street Food &amp; Liquor</td>\n      <td>1460 7th St</td>\n      <td>Oakland</td>\n      <td>CA</td>\n      <td>94607</td>\n      <td>m</td>\n      <td>1460 7th St, Oakland, CA</td>\n      <td>-122.295336</td>\n      <td>37.805524</td>\n    </tr>\n    <tr>\n      <th>12</th>\n      <td>13</td>\n      <td>Sav-Mor Liquor</td>\n      <td>1333 Peralta St</td>\n      <td>Oakland</td>\n      <td>CA</td>\n      <td>94607</td>\n      <td>p</td>\n      <td>1333 Peralta St, Oakland, CA</td>\n      <td>-122.294186</td>\n      <td>37.810885</td>\n    </tr>\n    <tr>\n      <th>13</th>\n      <td>14</td>\n      <td>Vernon Market</td>\n      <td>3710 Telegraph Ave</td>\n      <td>Oakland</td>\n      <td>CA</td>\n      <td>94609</td>\n      <td>m</td>\n      <td>3710 Telegraph Ave, Oakland, CA</td>\n      <td>-122.263274</td>\n      <td>37.833399</td>\n    </tr>\n    <tr>\n      <th>14</th>\n      <td>15</td>\n      <td>Buckingham Wine &amp; Spirits</td>\n      <td>3293 Lakeshore Ave</td>\n      <td>Oakland</td>\n      <td>CA</td>\n      <td>94610</td>\n      <td>p</td>\n      <td>3293 Lakeshore Ave, Oakland, CA</td>\n      <td>-122.244286</td>\n      <td>37.810971</td>\n    </tr>\n    <tr>\n      <th>15</th>\n      <td>16</td>\n      <td>Happy Time</td>\n      <td>1647 8th St</td>\n      <td>Oakland</td>\n      <td>CA</td>\n      <td>94607</td>\n      <td>p</td>\n      <td>1647 8th St, Oakland, CA</td>\n      <td>-122.298874</td>\n      <td>37.807172</td>\n    </tr>\n    <tr>\n      <th>17</th>\n      <td>18</td>\n      <td>Grand Piedmont Liquors</td>\n      <td>3900 Grand Ave</td>\n      <td>Oakland</td>\n      <td>CA</td>\n      <td>94610</td>\n      <td>p</td>\n      <td>3900 Grand Ave, Oakland, CA</td>\n      <td>-122.245161</td>\n      <td>37.817399</td>\n    </tr>\n    <tr>\n      <th>18</th>\n      <td>19</td>\n      <td>J J Buckley Fine Wines</td>\n      <td>7305 Edgewater Dr #D</td>\n      <td>Oakland</td>\n      <td>CA</td>\n      <td>94621</td>\n      <td>p</td>\n      <td>7305 Edgewater Dr #D, Oakland, CA</td>\n      <td>-122.197703</td>\n      <td>37.737327</td>\n    </tr>\n    <tr>\n      <th>19</th>\n      <td>20</td>\n      <td>Carriage Trade Liquors</td>\n      <td>350 E 18th St</td>\n      <td>Oakland</td>\n      <td>CA</td>\n      <td>94606</td>\n      <td>p</td>\n      <td>350 E 18th St, Oakland, CA</td>\n      <td>-122.251147</td>\n      <td>37.799418</td>\n    </tr>\n  </tbody>\n</table>\n</div>"
     },
     "metadata": {},
     "execution_count": 39
    }
   ],
   "source": [
    "## drop na\n",
    "df = df.dropna()\n",
    "df"
   ]
  },
  {
   "cell_type": "code",
   "execution_count": 38,
   "metadata": {},
   "outputs": [
    {
     "output_type": "display_data",
     "data": {
      "text/plain": "<folium.folium.Map at 0x241d17c5e50>",
      "text/html": "<div style=\"width:100%;\"><div style=\"position:relative;width:100%;height:0;padding-bottom:60%;\"><span style=\"color:#565656\">Make this Notebook Trusted to load map: File -> Trust Notebook</span><iframe src=\"about:blank\" style=\"position:absolute;width:100%;height:100%;left:0;top:0;border:none !important;\" data-html=%3C%21DOCTYPE%20html%3E%0A%3Chead%3E%20%20%20%20%0A%20%20%20%20%3Cmeta%20http-equiv%3D%22content-type%22%20content%3D%22text/html%3B%20charset%3DUTF-8%22%20/%3E%0A%20%20%20%20%0A%20%20%20%20%20%20%20%20%3Cscript%3E%0A%20%20%20%20%20%20%20%20%20%20%20%20L_NO_TOUCH%20%3D%20false%3B%0A%20%20%20%20%20%20%20%20%20%20%20%20L_DISABLE_3D%20%3D%20false%3B%0A%20%20%20%20%20%20%20%20%3C/script%3E%0A%20%20%20%20%0A%20%20%20%20%3Cstyle%3Ehtml%2C%20body%20%7Bwidth%3A%20100%25%3Bheight%3A%20100%25%3Bmargin%3A%200%3Bpadding%3A%200%3B%7D%3C/style%3E%0A%20%20%20%20%3Cstyle%3E%23map%20%7Bposition%3Aabsolute%3Btop%3A0%3Bbottom%3A0%3Bright%3A0%3Bleft%3A0%3B%7D%3C/style%3E%0A%20%20%20%20%3Cscript%20src%3D%22https%3A//cdn.jsdelivr.net/npm/leaflet%401.6.0/dist/leaflet.js%22%3E%3C/script%3E%0A%20%20%20%20%3Cscript%20src%3D%22https%3A//code.jquery.com/jquery-1.12.4.min.js%22%3E%3C/script%3E%0A%20%20%20%20%3Cscript%20src%3D%22https%3A//maxcdn.bootstrapcdn.com/bootstrap/3.2.0/js/bootstrap.min.js%22%3E%3C/script%3E%0A%20%20%20%20%3Cscript%20src%3D%22https%3A//cdnjs.cloudflare.com/ajax/libs/Leaflet.awesome-markers/2.0.2/leaflet.awesome-markers.js%22%3E%3C/script%3E%0A%20%20%20%20%3Clink%20rel%3D%22stylesheet%22%20href%3D%22https%3A//cdn.jsdelivr.net/npm/leaflet%401.6.0/dist/leaflet.css%22/%3E%0A%20%20%20%20%3Clink%20rel%3D%22stylesheet%22%20href%3D%22https%3A//maxcdn.bootstrapcdn.com/bootstrap/3.2.0/css/bootstrap.min.css%22/%3E%0A%20%20%20%20%3Clink%20rel%3D%22stylesheet%22%20href%3D%22https%3A//maxcdn.bootstrapcdn.com/bootstrap/3.2.0/css/bootstrap-theme.min.css%22/%3E%0A%20%20%20%20%3Clink%20rel%3D%22stylesheet%22%20href%3D%22https%3A//maxcdn.bootstrapcdn.com/font-awesome/4.6.3/css/font-awesome.min.css%22/%3E%0A%20%20%20%20%3Clink%20rel%3D%22stylesheet%22%20href%3D%22https%3A//cdnjs.cloudflare.com/ajax/libs/Leaflet.awesome-markers/2.0.2/leaflet.awesome-markers.css%22/%3E%0A%20%20%20%20%3Clink%20rel%3D%22stylesheet%22%20href%3D%22https%3A//cdn.jsdelivr.net/gh/python-visualization/folium/folium/templates/leaflet.awesome.rotate.min.css%22/%3E%0A%20%20%20%20%0A%20%20%20%20%20%20%20%20%20%20%20%20%3Cmeta%20name%3D%22viewport%22%20content%3D%22width%3Ddevice-width%2C%0A%20%20%20%20%20%20%20%20%20%20%20%20%20%20%20%20initial-scale%3D1.0%2C%20maximum-scale%3D1.0%2C%20user-scalable%3Dno%22%20/%3E%0A%20%20%20%20%20%20%20%20%20%20%20%20%3Cstyle%3E%0A%20%20%20%20%20%20%20%20%20%20%20%20%20%20%20%20%23map_d928e45e027d4031bccd5b1456d2cb0e%20%7B%0A%20%20%20%20%20%20%20%20%20%20%20%20%20%20%20%20%20%20%20%20position%3A%20relative%3B%0A%20%20%20%20%20%20%20%20%20%20%20%20%20%20%20%20%20%20%20%20width%3A%20100.0%25%3B%0A%20%20%20%20%20%20%20%20%20%20%20%20%20%20%20%20%20%20%20%20height%3A%20100.0%25%3B%0A%20%20%20%20%20%20%20%20%20%20%20%20%20%20%20%20%20%20%20%20left%3A%200.0%25%3B%0A%20%20%20%20%20%20%20%20%20%20%20%20%20%20%20%20%20%20%20%20top%3A%200.0%25%3B%0A%20%20%20%20%20%20%20%20%20%20%20%20%20%20%20%20%7D%0A%20%20%20%20%20%20%20%20%20%20%20%20%3C/style%3E%0A%20%20%20%20%20%20%20%20%0A%3C/head%3E%0A%3Cbody%3E%20%20%20%20%0A%20%20%20%20%0A%20%20%20%20%20%20%20%20%20%20%20%20%3Cdiv%20class%3D%22folium-map%22%20id%3D%22map_d928e45e027d4031bccd5b1456d2cb0e%22%20%3E%3C/div%3E%0A%20%20%20%20%20%20%20%20%0A%3C/body%3E%0A%3Cscript%3E%20%20%20%20%0A%20%20%20%20%0A%20%20%20%20%20%20%20%20%20%20%20%20var%20map_d928e45e027d4031bccd5b1456d2cb0e%20%3D%20L.map%28%0A%20%20%20%20%20%20%20%20%20%20%20%20%20%20%20%20%22map_d928e45e027d4031bccd5b1456d2cb0e%22%2C%0A%20%20%20%20%20%20%20%20%20%20%20%20%20%20%20%20%7B%0A%20%20%20%20%20%20%20%20%20%20%20%20%20%20%20%20%20%20%20%20center%3A%20%5B37.8044557%2C%20-122.2713563%5D%2C%0A%20%20%20%20%20%20%20%20%20%20%20%20%20%20%20%20%20%20%20%20crs%3A%20L.CRS.EPSG3857%2C%0A%20%20%20%20%20%20%20%20%20%20%20%20%20%20%20%20%20%20%20%20zoom%3A%2012%2C%0A%20%20%20%20%20%20%20%20%20%20%20%20%20%20%20%20%20%20%20%20zoomControl%3A%20true%2C%0A%20%20%20%20%20%20%20%20%20%20%20%20%20%20%20%20%20%20%20%20preferCanvas%3A%20false%2C%0A%20%20%20%20%20%20%20%20%20%20%20%20%20%20%20%20%7D%0A%20%20%20%20%20%20%20%20%20%20%20%20%29%3B%0A%0A%20%20%20%20%20%20%20%20%20%20%20%20%0A%0A%20%20%20%20%20%20%20%20%0A%20%20%20%20%0A%20%20%20%20%20%20%20%20%20%20%20%20var%20tile_layer_7ce102b944b04243a1991e285f550514%20%3D%20L.tileLayer%28%0A%20%20%20%20%20%20%20%20%20%20%20%20%20%20%20%20%22https%3A//%7Bs%7D.tile.openstreetmap.org/%7Bz%7D/%7Bx%7D/%7By%7D.png%22%2C%0A%20%20%20%20%20%20%20%20%20%20%20%20%20%20%20%20%7B%22attribution%22%3A%20%22Data%20by%20%5Cu0026copy%3B%20%5Cu003ca%20href%3D%5C%22http%3A//openstreetmap.org%5C%22%5Cu003eOpenStreetMap%5Cu003c/a%5Cu003e%2C%20under%20%5Cu003ca%20href%3D%5C%22http%3A//www.openstreetmap.org/copyright%5C%22%5Cu003eODbL%5Cu003c/a%5Cu003e.%22%2C%20%22detectRetina%22%3A%20false%2C%20%22maxNativeZoom%22%3A%2018%2C%20%22maxZoom%22%3A%2018%2C%20%22minZoom%22%3A%200%2C%20%22noWrap%22%3A%20false%2C%20%22opacity%22%3A%201%2C%20%22subdomains%22%3A%20%22abc%22%2C%20%22tms%22%3A%20false%7D%0A%20%20%20%20%20%20%20%20%20%20%20%20%29.addTo%28map_d928e45e027d4031bccd5b1456d2cb0e%29%3B%0A%20%20%20%20%20%20%20%20%0A%20%20%20%20%0A%20%20%20%20%20%20%20%20%20%20%20%20var%20marker_27d4b2419a2f46d186e1869bff606b5f%20%3D%20L.marker%28%0A%20%20%20%20%20%20%20%20%20%20%20%20%20%20%20%20%5B37.79833505%2C%20-122.24487385216034%5D%2C%0A%20%20%20%20%20%20%20%20%20%20%20%20%20%20%20%20%7B%7D%0A%20%20%20%20%20%20%20%20%20%20%20%20%29.addTo%28map_d928e45e027d4031bccd5b1456d2cb0e%29%3B%0A%20%20%20%20%20%20%20%20%0A%20%20%20%20%0A%20%20%20%20%20%20%20%20var%20popup_ea64c395160d43538f506791fbc67640%20%3D%20L.popup%28%7B%22maxWidth%22%3A%20%22100%25%22%7D%29%3B%0A%0A%20%20%20%20%20%20%20%20%0A%20%20%20%20%20%20%20%20%20%20%20%20var%20html_b676606fa6474ecbb9d8ffe1b0c96a1d%20%3D%20%24%28%60%3Cdiv%20id%3D%22html_b676606fa6474ecbb9d8ffe1b0c96a1d%22%20style%3D%22width%3A%20100.0%25%3B%20height%3A%20100.0%25%3B%22%3EWah%20Fay%20Liquors%3C/div%3E%60%29%5B0%5D%3B%0A%20%20%20%20%20%20%20%20%20%20%20%20popup_ea64c395160d43538f506791fbc67640.setContent%28html_b676606fa6474ecbb9d8ffe1b0c96a1d%29%3B%0A%20%20%20%20%20%20%20%20%0A%0A%20%20%20%20%20%20%20%20marker_27d4b2419a2f46d186e1869bff606b5f.bindPopup%28popup_ea64c395160d43538f506791fbc67640%29%0A%20%20%20%20%20%20%20%20%3B%0A%0A%20%20%20%20%20%20%20%20%0A%20%20%20%20%0A%20%20%20%20%0A%20%20%20%20%20%20%20%20%20%20%20%20var%20marker_84a08ac2078d4d9caa8f6ffa52112187%20%3D%20L.marker%28%0A%20%20%20%20%20%20%20%20%20%20%20%20%20%20%20%20%5B37.8002721%2C%20-122.2237412%5D%2C%0A%20%20%20%20%20%20%20%20%20%20%20%20%20%20%20%20%7B%7D%0A%20%20%20%20%20%20%20%20%20%20%20%20%29.addTo%28map_d928e45e027d4031bccd5b1456d2cb0e%29%3B%0A%20%20%20%20%20%20%20%20%0A%20%20%20%20%0A%20%20%20%20%20%20%20%20var%20popup_9c1c1f6b38414d3fb0892e129b86fdbb%20%3D%20L.popup%28%7B%22maxWidth%22%3A%20%22100%25%22%7D%29%3B%0A%0A%20%20%20%20%20%20%20%20%0A%20%20%20%20%20%20%20%20%20%20%20%20var%20html_516ee497f4c34caf9d8ae211b9124e90%20%3D%20%24%28%60%3Cdiv%20id%3D%22html_516ee497f4c34caf9d8ae211b9124e90%22%20style%3D%22width%3A%20100.0%25%3B%20height%3A%20100.0%25%3B%22%3EVision%20Liquor%3C/div%3E%60%29%5B0%5D%3B%0A%20%20%20%20%20%20%20%20%20%20%20%20popup_9c1c1f6b38414d3fb0892e129b86fdbb.setContent%28html_516ee497f4c34caf9d8ae211b9124e90%29%3B%0A%20%20%20%20%20%20%20%20%0A%0A%20%20%20%20%20%20%20%20marker_84a08ac2078d4d9caa8f6ffa52112187.bindPopup%28popup_9c1c1f6b38414d3fb0892e129b86fdbb%29%0A%20%20%20%20%20%20%20%20%3B%0A%0A%20%20%20%20%20%20%20%20%0A%20%20%20%20%0A%20%20%20%20%0A%20%20%20%20%20%20%20%20%20%20%20%20var%20marker_9bb277f7677f4c4baf40c61b9f1114ea%20%3D%20L.marker%28%0A%20%20%20%20%20%20%20%20%20%20%20%20%20%20%20%20%5B37.80257815%2C%20-122.2704274378145%5D%2C%0A%20%20%20%20%20%20%20%20%20%20%20%20%20%20%20%20%7B%7D%0A%20%20%20%20%20%20%20%20%20%20%20%20%29.addTo%28map_d928e45e027d4031bccd5b1456d2cb0e%29%3B%0A%20%20%20%20%20%20%20%20%0A%20%20%20%20%0A%20%20%20%20%20%20%20%20var%20popup_0b7064b2890a4aca8196603c7802dc2b%20%3D%20L.popup%28%7B%22maxWidth%22%3A%20%22100%25%22%7D%29%3B%0A%0A%20%20%20%20%20%20%20%20%0A%20%20%20%20%20%20%20%20%20%20%20%20var%20html_4199f33538fc48f0b8a3b93b816484f4%20%3D%20%24%28%60%3Cdiv%20id%3D%22html_4199f33538fc48f0b8a3b93b816484f4%22%20style%3D%22width%3A%20100.0%25%3B%20height%3A%20100.0%25%3B%22%3ESouza%27s%20Liquors%3C/div%3E%60%29%5B0%5D%3B%0A%20%20%20%20%20%20%20%20%20%20%20%20popup_0b7064b2890a4aca8196603c7802dc2b.setContent%28html_4199f33538fc48f0b8a3b93b816484f4%29%3B%0A%20%20%20%20%20%20%20%20%0A%0A%20%20%20%20%20%20%20%20marker_9bb277f7677f4c4baf40c61b9f1114ea.bindPopup%28popup_0b7064b2890a4aca8196603c7802dc2b%29%0A%20%20%20%20%20%20%20%20%3B%0A%0A%20%20%20%20%20%20%20%20%0A%20%20%20%20%0A%20%20%20%20%0A%20%20%20%20%20%20%20%20%20%20%20%20var%20marker_5357554397a441e68b90d6c869666c7f%20%3D%20L.marker%28%0A%20%20%20%20%20%20%20%20%20%20%20%20%20%20%20%20%5B37.784349250000005%2C%20-122.16719769441988%5D%2C%0A%20%20%20%20%20%20%20%20%20%20%20%20%20%20%20%20%7B%7D%0A%20%20%20%20%20%20%20%20%20%20%20%20%29.addTo%28map_d928e45e027d4031bccd5b1456d2cb0e%29%3B%0A%20%20%20%20%20%20%20%20%0A%20%20%20%20%0A%20%20%20%20%20%20%20%20var%20popup_644caf59330a437d9fc79c3a82e8b82e%20%3D%20L.popup%28%7B%22maxWidth%22%3A%20%22100%25%22%7D%29%3B%0A%0A%20%20%20%20%20%20%20%20%0A%20%20%20%20%20%20%20%20%20%20%20%20var%20html_d423c8cbebd04053ae9708aacfa42a72%20%3D%20%24%28%60%3Cdiv%20id%3D%22html_d423c8cbebd04053ae9708aacfa42a72%22%20style%3D%22width%3A%20100.0%25%3B%20height%3A%20100.0%25%3B%22%3EQuadriga%20Wines%20Inc%3C/div%3E%60%29%5B0%5D%3B%0A%20%20%20%20%20%20%20%20%20%20%20%20popup_644caf59330a437d9fc79c3a82e8b82e.setContent%28html_d423c8cbebd04053ae9708aacfa42a72%29%3B%0A%20%20%20%20%20%20%20%20%0A%0A%20%20%20%20%20%20%20%20marker_5357554397a441e68b90d6c869666c7f.bindPopup%28popup_644caf59330a437d9fc79c3a82e8b82e%29%0A%20%20%20%20%20%20%20%20%3B%0A%0A%20%20%20%20%20%20%20%20%0A%20%20%20%20%0A%20%20%20%20%0A%20%20%20%20%20%20%20%20%20%20%20%20var%20marker_4594fe7b0cdd46c5bbc571b58cd0d97d%20%3D%20L.marker%28%0A%20%20%20%20%20%20%20%20%20%20%20%20%20%20%20%20%5B37.79593021992192%2C%20-122.27873160224773%5D%2C%0A%20%20%20%20%20%20%20%20%20%20%20%20%20%20%20%20%7B%7D%0A%20%20%20%20%20%20%20%20%20%20%20%20%29.addTo%28map_d928e45e027d4031bccd5b1456d2cb0e%29%3B%0A%20%20%20%20%20%20%20%20%0A%20%20%20%20%0A%20%20%20%20%20%20%20%20var%20popup_f09fba5a495b40258fa59ac3d8c8973b%20%3D%20L.popup%28%7B%22maxWidth%22%3A%20%22100%25%22%7D%29%3B%0A%0A%20%20%20%20%20%20%20%20%0A%20%20%20%20%20%20%20%20%20%20%20%20var%20html_80b6420527a34f7fb22c4ec732090222%20%3D%20%24%28%60%3Cdiv%20id%3D%22html_80b6420527a34f7fb22c4ec732090222%22%20style%3D%22width%3A%20100.0%25%3B%20height%3A%20100.0%25%3B%22%3EBev%20Mo%3C/div%3E%60%29%5B0%5D%3B%0A%20%20%20%20%20%20%20%20%20%20%20%20popup_f09fba5a495b40258fa59ac3d8c8973b.setContent%28html_80b6420527a34f7fb22c4ec732090222%29%3B%0A%20%20%20%20%20%20%20%20%0A%0A%20%20%20%20%20%20%20%20marker_4594fe7b0cdd46c5bbc571b58cd0d97d.bindPopup%28popup_f09fba5a495b40258fa59ac3d8c8973b%29%0A%20%20%20%20%20%20%20%20%3B%0A%0A%20%20%20%20%20%20%20%20%0A%20%20%20%20%0A%20%20%20%20%0A%20%20%20%20%20%20%20%20%20%20%20%20var%20marker_e1367d4cd7eb45b5852f68fce77c88ab%20%3D%20L.marker%28%0A%20%20%20%20%20%20%20%20%20%20%20%20%20%20%20%20%5B37.7733311%2C%20-122.2089729%5D%2C%0A%20%20%20%20%20%20%20%20%20%20%20%20%20%20%20%20%7B%7D%0A%20%20%20%20%20%20%20%20%20%20%20%20%29.addTo%28map_d928e45e027d4031bccd5b1456d2cb0e%29%3B%0A%20%20%20%20%20%20%20%20%0A%20%20%20%20%0A%20%20%20%20%20%20%20%20var%20popup_266847fbb06a44e896ccb310981ea347%20%3D%20L.popup%28%7B%22maxWidth%22%3A%20%22100%25%22%7D%29%3B%0A%0A%20%20%20%20%20%20%20%20%0A%20%20%20%20%20%20%20%20%20%20%20%20var%20html_73a5b3f9c18746cdb3eea6791e048d1a%20%3D%20%24%28%60%3Cdiv%20id%3D%22html_73a5b3f9c18746cdb3eea6791e048d1a%22%20style%3D%22width%3A%20100.0%25%3B%20height%3A%20100.0%25%3B%22%3EFairfax%20Liquor%3C/div%3E%60%29%5B0%5D%3B%0A%20%20%20%20%20%20%20%20%20%20%20%20popup_266847fbb06a44e896ccb310981ea347.setContent%28html_73a5b3f9c18746cdb3eea6791e048d1a%29%3B%0A%20%20%20%20%20%20%20%20%0A%0A%20%20%20%20%20%20%20%20marker_e1367d4cd7eb45b5852f68fce77c88ab.bindPopup%28popup_266847fbb06a44e896ccb310981ea347%29%0A%20%20%20%20%20%20%20%20%3B%0A%0A%20%20%20%20%20%20%20%20%0A%20%20%20%20%0A%20%20%20%20%0A%20%20%20%20%20%20%20%20%20%20%20%20var%20marker_ebea0ea09fb94825aabb301a31ccb70c%20%3D%20L.marker%28%0A%20%20%20%20%20%20%20%20%20%20%20%20%20%20%20%20%5B37.755535050000006%2C%20-122.1863235306483%5D%2C%0A%20%20%20%20%20%20%20%20%20%20%20%20%20%20%20%20%7B%7D%0A%20%20%20%20%20%20%20%20%20%20%20%20%29.addTo%28map_d928e45e027d4031bccd5b1456d2cb0e%29%3B%0A%20%20%20%20%20%20%20%20%0A%20%20%20%20%0A%20%20%20%20%20%20%20%20var%20popup_15c4905bc35b4ec5a3c1de07541c3b68%20%3D%20L.popup%28%7B%22maxWidth%22%3A%20%22100%25%22%7D%29%3B%0A%0A%20%20%20%20%20%20%20%20%0A%20%20%20%20%20%20%20%20%20%20%20%20var%20html_3458c6f697b3482bb337803c00c48c4f%20%3D%20%24%28%60%3Cdiv%20id%3D%22html_3458c6f697b3482bb337803c00c48c4f%22%20style%3D%22width%3A%20100.0%25%3B%20height%3A%20100.0%25%3B%22%3ESaleen%20Market%3C/div%3E%60%29%5B0%5D%3B%0A%20%20%20%20%20%20%20%20%20%20%20%20popup_15c4905bc35b4ec5a3c1de07541c3b68.setContent%28html_3458c6f697b3482bb337803c00c48c4f%29%3B%0A%20%20%20%20%20%20%20%20%0A%0A%20%20%20%20%20%20%20%20marker_ebea0ea09fb94825aabb301a31ccb70c.bindPopup%28popup_15c4905bc35b4ec5a3c1de07541c3b68%29%0A%20%20%20%20%20%20%20%20%3B%0A%0A%20%20%20%20%20%20%20%20%0A%20%20%20%20%0A%20%20%20%20%0A%20%20%20%20%20%20%20%20%20%20%20%20var%20marker_fa39139ec5af4bd3b746a4db1950a9e3%20%3D%20L.marker%28%0A%20%20%20%20%20%20%20%20%20%20%20%20%20%20%20%20%5B37.800102300000006%2C%20-122.27202034999999%5D%2C%0A%20%20%20%20%20%20%20%20%20%20%20%20%20%20%20%20%7B%7D%0A%20%20%20%20%20%20%20%20%20%20%20%20%29.addTo%28map_d928e45e027d4031bccd5b1456d2cb0e%29%3B%0A%20%20%20%20%20%20%20%20%0A%20%20%20%20%0A%20%20%20%20%20%20%20%20var%20popup_9befeaf01c8f484abf885a687bc505d1%20%3D%20L.popup%28%7B%22maxWidth%22%3A%20%22100%25%22%7D%29%3B%0A%0A%20%20%20%20%20%20%20%20%0A%20%20%20%20%20%20%20%20%20%20%20%20var%20html_4870533fda424b3b9a16c270f39f14dd%20%3D%20%24%28%60%3Cdiv%20id%3D%22html_4870533fda424b3b9a16c270f39f14dd%22%20style%3D%22width%3A%20100.0%25%3B%20height%3A%20100.0%25%3B%22%3EPark%20Liquors%3C/div%3E%60%29%5B0%5D%3B%0A%20%20%20%20%20%20%20%20%20%20%20%20popup_9befeaf01c8f484abf885a687bc505d1.setContent%28html_4870533fda424b3b9a16c270f39f14dd%29%3B%0A%20%20%20%20%20%20%20%20%0A%0A%20%20%20%20%20%20%20%20marker_fa39139ec5af4bd3b746a4db1950a9e3.bindPopup%28popup_9befeaf01c8f484abf885a687bc505d1%29%0A%20%20%20%20%20%20%20%20%3B%0A%0A%20%20%20%20%20%20%20%20%0A%20%20%20%20%0A%20%20%20%20%0A%20%20%20%20%20%20%20%20%20%20%20%20var%20marker_3484e35a43d144a0af79ecb010bd40e0%20%3D%20L.marker%28%0A%20%20%20%20%20%20%20%20%20%20%20%20%20%20%20%20%5B37.7721239%2C%20-122.2145153%5D%2C%0A%20%20%20%20%20%20%20%20%20%20%20%20%20%20%20%20%7B%7D%0A%20%20%20%20%20%20%20%20%20%20%20%20%29.addTo%28map_d928e45e027d4031bccd5b1456d2cb0e%29%3B%0A%20%20%20%20%20%20%20%20%0A%20%20%20%20%0A%20%20%20%20%20%20%20%20var%20popup_faba605ce2904e9bb497ba074e65cafe%20%3D%20L.popup%28%7B%22maxWidth%22%3A%20%22100%25%22%7D%29%3B%0A%0A%20%20%20%20%20%20%20%20%0A%20%20%20%20%20%20%20%20%20%20%20%20var%20html_b4290f2eb7174977a220f79818b57b86%20%3D%20%24%28%60%3Cdiv%20id%3D%22html_b4290f2eb7174977a220f79818b57b86%22%20style%3D%22width%3A%20100.0%25%3B%20height%3A%20100.0%25%3B%22%3ELos%20Camellos%3C/div%3E%60%29%5B0%5D%3B%0A%20%20%20%20%20%20%20%20%20%20%20%20popup_faba605ce2904e9bb497ba074e65cafe.setContent%28html_b4290f2eb7174977a220f79818b57b86%29%3B%0A%20%20%20%20%20%20%20%20%0A%0A%20%20%20%20%20%20%20%20marker_3484e35a43d144a0af79ecb010bd40e0.bindPopup%28popup_faba605ce2904e9bb497ba074e65cafe%29%0A%20%20%20%20%20%20%20%20%3B%0A%0A%20%20%20%20%20%20%20%20%0A%20%20%20%20%0A%20%20%20%20%0A%20%20%20%20%20%20%20%20%20%20%20%20var%20marker_3475aec390b34d64844443a8cb7eb4db%20%3D%20L.marker%28%0A%20%20%20%20%20%20%20%20%20%20%20%20%20%20%20%20%5B37.817982799999996%2C%20-122.25581084366584%5D%2C%0A%20%20%20%20%20%20%20%20%20%20%20%20%20%20%20%20%7B%7D%0A%20%20%20%20%20%20%20%20%20%20%20%20%29.addTo%28map_d928e45e027d4031bccd5b1456d2cb0e%29%3B%0A%20%20%20%20%20%20%20%20%0A%20%20%20%20%0A%20%20%20%20%20%20%20%20var%20popup_e7001b8d1f374d37b5af78e9266f0179%20%3D%20L.popup%28%7B%22maxWidth%22%3A%20%22100%25%22%7D%29%3B%0A%0A%20%20%20%20%20%20%20%20%0A%20%20%20%20%20%20%20%20%20%20%20%20var%20html_58e0f2bb20db49a9a500052e58bf135a%20%3D%20%24%28%60%3Cdiv%20id%3D%22html_58e0f2bb20db49a9a500052e58bf135a%22%20style%3D%22width%3A%20100.0%25%3B%20height%3A%20100.0%25%3B%22%3EVernon%20Market%3C/div%3E%60%29%5B0%5D%3B%0A%20%20%20%20%20%20%20%20%20%20%20%20popup_e7001b8d1f374d37b5af78e9266f0179.setContent%28html_58e0f2bb20db49a9a500052e58bf135a%29%3B%0A%20%20%20%20%20%20%20%20%0A%0A%20%20%20%20%20%20%20%20marker_3475aec390b34d64844443a8cb7eb4db.bindPopup%28popup_e7001b8d1f374d37b5af78e9266f0179%29%0A%20%20%20%20%20%20%20%20%3B%0A%0A%20%20%20%20%20%20%20%20%0A%20%20%20%20%0A%20%20%20%20%0A%20%20%20%20%20%20%20%20%20%20%20%20var%20marker_1d7aa81c09aa4d3db870e6f046fe2ddb%20%3D%20L.marker%28%0A%20%20%20%20%20%20%20%20%20%20%20%20%20%20%20%20%5B37.805523535714286%2C%20-122.29533585714286%5D%2C%0A%20%20%20%20%20%20%20%20%20%20%20%20%20%20%20%20%7B%7D%0A%20%20%20%20%20%20%20%20%20%20%20%20%29.addTo%28map_d928e45e027d4031bccd5b1456d2cb0e%29%3B%0A%20%20%20%20%20%20%20%20%0A%20%20%20%20%0A%20%20%20%20%20%20%20%20var%20popup_344199974004415299f701b4cafec2f4%20%3D%20L.popup%28%7B%22maxWidth%22%3A%20%22100%25%22%7D%29%3B%0A%0A%20%20%20%20%20%20%20%20%0A%20%20%20%20%20%20%20%20%20%20%20%20var%20html_0e4a5723368b426f8196fe8d6226587e%20%3D%20%24%28%60%3Cdiv%20id%3D%22html_0e4a5723368b426f8196fe8d6226587e%22%20style%3D%22width%3A%20100.0%25%3B%20height%3A%20100.0%25%3B%22%3ESeventh%20Street%20Food%20%26%20Liquor%3C/div%3E%60%29%5B0%5D%3B%0A%20%20%20%20%20%20%20%20%20%20%20%20popup_344199974004415299f701b4cafec2f4.setContent%28html_0e4a5723368b426f8196fe8d6226587e%29%3B%0A%20%20%20%20%20%20%20%20%0A%0A%20%20%20%20%20%20%20%20marker_1d7aa81c09aa4d3db870e6f046fe2ddb.bindPopup%28popup_344199974004415299f701b4cafec2f4%29%0A%20%20%20%20%20%20%20%20%3B%0A%0A%20%20%20%20%20%20%20%20%0A%20%20%20%20%0A%20%20%20%20%0A%20%20%20%20%20%20%20%20%20%20%20%20var%20marker_91d5532b585747d09b0a5c4e52d0dcc9%20%3D%20L.marker%28%0A%20%20%20%20%20%20%20%20%20%20%20%20%20%20%20%20%5B37.81088523608463%2C%20-122.29418584564408%5D%2C%0A%20%20%20%20%20%20%20%20%20%20%20%20%20%20%20%20%7B%7D%0A%20%20%20%20%20%20%20%20%20%20%20%20%29.addTo%28map_d928e45e027d4031bccd5b1456d2cb0e%29%3B%0A%20%20%20%20%20%20%20%20%0A%20%20%20%20%0A%20%20%20%20%20%20%20%20var%20popup_79d381487b9046409bf344d254b507bf%20%3D%20L.popup%28%7B%22maxWidth%22%3A%20%22100%25%22%7D%29%3B%0A%0A%20%20%20%20%20%20%20%20%0A%20%20%20%20%20%20%20%20%20%20%20%20var%20html_5347bc07967845f4980bb133ac30a034%20%3D%20%24%28%60%3Cdiv%20id%3D%22html_5347bc07967845f4980bb133ac30a034%22%20style%3D%22width%3A%20100.0%25%3B%20height%3A%20100.0%25%3B%22%3ESav-Mor%20Liquor%3C/div%3E%60%29%5B0%5D%3B%0A%20%20%20%20%20%20%20%20%20%20%20%20popup_79d381487b9046409bf344d254b507bf.setContent%28html_5347bc07967845f4980bb133ac30a034%29%3B%0A%20%20%20%20%20%20%20%20%0A%0A%20%20%20%20%20%20%20%20marker_91d5532b585747d09b0a5c4e52d0dcc9.bindPopup%28popup_79d381487b9046409bf344d254b507bf%29%0A%20%20%20%20%20%20%20%20%3B%0A%0A%20%20%20%20%20%20%20%20%0A%20%20%20%20%0A%20%20%20%20%0A%20%20%20%20%20%20%20%20%20%20%20%20var%20marker_3ca2cc3ffe754c60ad490e7d5322e2fe%20%3D%20L.marker%28%0A%20%20%20%20%20%20%20%20%20%20%20%20%20%20%20%20%5B37.8333985%2C%20-122.2632745%5D%2C%0A%20%20%20%20%20%20%20%20%20%20%20%20%20%20%20%20%7B%7D%0A%20%20%20%20%20%20%20%20%20%20%20%20%29.addTo%28map_d928e45e027d4031bccd5b1456d2cb0e%29%3B%0A%20%20%20%20%20%20%20%20%0A%20%20%20%20%0A%20%20%20%20%20%20%20%20var%20popup_172be30dfd6d40a19ebd6acd6916d5ed%20%3D%20L.popup%28%7B%22maxWidth%22%3A%20%22100%25%22%7D%29%3B%0A%0A%20%20%20%20%20%20%20%20%0A%20%20%20%20%20%20%20%20%20%20%20%20var%20html_cb687ae15d5f4afd9f991e204ae09bb8%20%3D%20%24%28%60%3Cdiv%20id%3D%22html_cb687ae15d5f4afd9f991e204ae09bb8%22%20style%3D%22width%3A%20100.0%25%3B%20height%3A%20100.0%25%3B%22%3EVernon%20Market%3C/div%3E%60%29%5B0%5D%3B%0A%20%20%20%20%20%20%20%20%20%20%20%20popup_172be30dfd6d40a19ebd6acd6916d5ed.setContent%28html_cb687ae15d5f4afd9f991e204ae09bb8%29%3B%0A%20%20%20%20%20%20%20%20%0A%0A%20%20%20%20%20%20%20%20marker_3ca2cc3ffe754c60ad490e7d5322e2fe.bindPopup%28popup_172be30dfd6d40a19ebd6acd6916d5ed%29%0A%20%20%20%20%20%20%20%20%3B%0A%0A%20%20%20%20%20%20%20%20%0A%20%20%20%20%0A%20%20%20%20%0A%20%20%20%20%20%20%20%20%20%20%20%20var%20marker_01c04133e9354fd6a956ca7d4d8efa69%20%3D%20L.marker%28%0A%20%20%20%20%20%20%20%20%20%20%20%20%20%20%20%20%5B37.810970749999996%2C%20-122.24428622953027%5D%2C%0A%20%20%20%20%20%20%20%20%20%20%20%20%20%20%20%20%7B%7D%0A%20%20%20%20%20%20%20%20%20%20%20%20%29.addTo%28map_d928e45e027d4031bccd5b1456d2cb0e%29%3B%0A%20%20%20%20%20%20%20%20%0A%20%20%20%20%0A%20%20%20%20%20%20%20%20var%20popup_8bb7aead33e04e728f151d54915d9799%20%3D%20L.popup%28%7B%22maxWidth%22%3A%20%22100%25%22%7D%29%3B%0A%0A%20%20%20%20%20%20%20%20%0A%20%20%20%20%20%20%20%20%20%20%20%20var%20html_0ed074383ebb401c95c13e90475db5ca%20%3D%20%24%28%60%3Cdiv%20id%3D%22html_0ed074383ebb401c95c13e90475db5ca%22%20style%3D%22width%3A%20100.0%25%3B%20height%3A%20100.0%25%3B%22%3EBuckingham%20Wine%20%26%20Spirits%3C/div%3E%60%29%5B0%5D%3B%0A%20%20%20%20%20%20%20%20%20%20%20%20popup_8bb7aead33e04e728f151d54915d9799.setContent%28html_0ed074383ebb401c95c13e90475db5ca%29%3B%0A%20%20%20%20%20%20%20%20%0A%0A%20%20%20%20%20%20%20%20marker_01c04133e9354fd6a956ca7d4d8efa69.bindPopup%28popup_8bb7aead33e04e728f151d54915d9799%29%0A%20%20%20%20%20%20%20%20%3B%0A%0A%20%20%20%20%20%20%20%20%0A%20%20%20%20%0A%20%20%20%20%0A%20%20%20%20%20%20%20%20%20%20%20%20var%20marker_62f816b201a942f0b812720f6d778cd4%20%3D%20L.marker%28%0A%20%20%20%20%20%20%20%20%20%20%20%20%20%20%20%20%5B37.8071719%2C%20-122.29887380841905%5D%2C%0A%20%20%20%20%20%20%20%20%20%20%20%20%20%20%20%20%7B%7D%0A%20%20%20%20%20%20%20%20%20%20%20%20%29.addTo%28map_d928e45e027d4031bccd5b1456d2cb0e%29%3B%0A%20%20%20%20%20%20%20%20%0A%20%20%20%20%0A%20%20%20%20%20%20%20%20var%20popup_c592d654500d4f82aca00787d2cf9476%20%3D%20L.popup%28%7B%22maxWidth%22%3A%20%22100%25%22%7D%29%3B%0A%0A%20%20%20%20%20%20%20%20%0A%20%20%20%20%20%20%20%20%20%20%20%20var%20html_c54e71800cb24be19e8ba3e2e935e9fa%20%3D%20%24%28%60%3Cdiv%20id%3D%22html_c54e71800cb24be19e8ba3e2e935e9fa%22%20style%3D%22width%3A%20100.0%25%3B%20height%3A%20100.0%25%3B%22%3EHappy%20Time%3C/div%3E%60%29%5B0%5D%3B%0A%20%20%20%20%20%20%20%20%20%20%20%20popup_c592d654500d4f82aca00787d2cf9476.setContent%28html_c54e71800cb24be19e8ba3e2e935e9fa%29%3B%0A%20%20%20%20%20%20%20%20%0A%0A%20%20%20%20%20%20%20%20marker_62f816b201a942f0b812720f6d778cd4.bindPopup%28popup_c592d654500d4f82aca00787d2cf9476%29%0A%20%20%20%20%20%20%20%20%3B%0A%0A%20%20%20%20%20%20%20%20%0A%20%20%20%20%0A%20%20%20%20%0A%20%20%20%20%20%20%20%20%20%20%20%20var%20marker_0bfe960c4b6e471bbe8664a041c343c1%20%3D%20L.marker%28%0A%20%20%20%20%20%20%20%20%20%20%20%20%20%20%20%20%5B37.817398663287186%2C%20-122.24516108562804%5D%2C%0A%20%20%20%20%20%20%20%20%20%20%20%20%20%20%20%20%7B%7D%0A%20%20%20%20%20%20%20%20%20%20%20%20%29.addTo%28map_d928e45e027d4031bccd5b1456d2cb0e%29%3B%0A%20%20%20%20%20%20%20%20%0A%20%20%20%20%0A%20%20%20%20%20%20%20%20var%20popup_d6f1068ead9142468fd121cde7ce82f1%20%3D%20L.popup%28%7B%22maxWidth%22%3A%20%22100%25%22%7D%29%3B%0A%0A%20%20%20%20%20%20%20%20%0A%20%20%20%20%20%20%20%20%20%20%20%20var%20html_326bc36eba3a45808678d0929a7f2853%20%3D%20%24%28%60%3Cdiv%20id%3D%22html_326bc36eba3a45808678d0929a7f2853%22%20style%3D%22width%3A%20100.0%25%3B%20height%3A%20100.0%25%3B%22%3EGrand%20Piedmont%20Liquors%3C/div%3E%60%29%5B0%5D%3B%0A%20%20%20%20%20%20%20%20%20%20%20%20popup_d6f1068ead9142468fd121cde7ce82f1.setContent%28html_326bc36eba3a45808678d0929a7f2853%29%3B%0A%20%20%20%20%20%20%20%20%0A%0A%20%20%20%20%20%20%20%20marker_0bfe960c4b6e471bbe8664a041c343c1.bindPopup%28popup_d6f1068ead9142468fd121cde7ce82f1%29%0A%20%20%20%20%20%20%20%20%3B%0A%0A%20%20%20%20%20%20%20%20%0A%20%20%20%20%0A%20%20%20%20%0A%20%20%20%20%20%20%20%20%20%20%20%20var%20marker_fbc7ebae71fe44d588a4d89763087132%20%3D%20L.marker%28%0A%20%20%20%20%20%20%20%20%20%20%20%20%20%20%20%20%5B37.7373266%2C%20-122.1977029%5D%2C%0A%20%20%20%20%20%20%20%20%20%20%20%20%20%20%20%20%7B%7D%0A%20%20%20%20%20%20%20%20%20%20%20%20%29.addTo%28map_d928e45e027d4031bccd5b1456d2cb0e%29%3B%0A%20%20%20%20%20%20%20%20%0A%20%20%20%20%0A%20%20%20%20%20%20%20%20var%20popup_b5f331c1ebd74678bc351e04cd394f51%20%3D%20L.popup%28%7B%22maxWidth%22%3A%20%22100%25%22%7D%29%3B%0A%0A%20%20%20%20%20%20%20%20%0A%20%20%20%20%20%20%20%20%20%20%20%20var%20html_8e0ed0632ca54ffd9b81194477af61f1%20%3D%20%24%28%60%3Cdiv%20id%3D%22html_8e0ed0632ca54ffd9b81194477af61f1%22%20style%3D%22width%3A%20100.0%25%3B%20height%3A%20100.0%25%3B%22%3EJ%20J%20Buckley%20Fine%20Wines%3C/div%3E%60%29%5B0%5D%3B%0A%20%20%20%20%20%20%20%20%20%20%20%20popup_b5f331c1ebd74678bc351e04cd394f51.setContent%28html_8e0ed0632ca54ffd9b81194477af61f1%29%3B%0A%20%20%20%20%20%20%20%20%0A%0A%20%20%20%20%20%20%20%20marker_fbc7ebae71fe44d588a4d89763087132.bindPopup%28popup_b5f331c1ebd74678bc351e04cd394f51%29%0A%20%20%20%20%20%20%20%20%3B%0A%0A%20%20%20%20%20%20%20%20%0A%20%20%20%20%0A%20%20%20%20%0A%20%20%20%20%20%20%20%20%20%20%20%20var%20marker_649a9316dacd4d52ae75fd9b8af98ac5%20%3D%20L.marker%28%0A%20%20%20%20%20%20%20%20%20%20%20%20%20%20%20%20%5B37.7994181%2C%20-122.2511467%5D%2C%0A%20%20%20%20%20%20%20%20%20%20%20%20%20%20%20%20%7B%7D%0A%20%20%20%20%20%20%20%20%20%20%20%20%29.addTo%28map_d928e45e027d4031bccd5b1456d2cb0e%29%3B%0A%20%20%20%20%20%20%20%20%0A%20%20%20%20%0A%20%20%20%20%20%20%20%20var%20popup_c3dd1d261cc74708b62feed0e5d75e74%20%3D%20L.popup%28%7B%22maxWidth%22%3A%20%22100%25%22%7D%29%3B%0A%0A%20%20%20%20%20%20%20%20%0A%20%20%20%20%20%20%20%20%20%20%20%20var%20html_577d984fffa043faba758be64fbc5325%20%3D%20%24%28%60%3Cdiv%20id%3D%22html_577d984fffa043faba758be64fbc5325%22%20style%3D%22width%3A%20100.0%25%3B%20height%3A%20100.0%25%3B%22%3ECarriage%20Trade%20Liquors%3C/div%3E%60%29%5B0%5D%3B%0A%20%20%20%20%20%20%20%20%20%20%20%20popup_c3dd1d261cc74708b62feed0e5d75e74.setContent%28html_577d984fffa043faba758be64fbc5325%29%3B%0A%20%20%20%20%20%20%20%20%0A%0A%20%20%20%20%20%20%20%20marker_649a9316dacd4d52ae75fd9b8af98ac5.bindPopup%28popup_c3dd1d261cc74708b62feed0e5d75e74%29%0A%20%20%20%20%20%20%20%20%3B%0A%0A%20%20%20%20%20%20%20%20%0A%20%20%20%20%0A%3C/script%3E onload=\"this.contentDocument.open();this.contentDocument.write(    decodeURIComponent(this.getAttribute('data-html')));this.contentDocument.close();\" allowfullscreen webkitallowfullscreen mozallowfullscreen></iframe></div></div>"
     },
     "metadata": {}
    }
   ],
   "source": [
    "map1 = folium.Map(location=(37.8044557, -122.2713563), zoom_start=12)\n",
    "for index, row in df.iterrows():\n",
    "    folium.Marker(location=(row['lat'], row['lon']), popup = row['name']).add_to(map1)\n",
    "\n",
    "display(map1)"
   ]
  }
 ]
}